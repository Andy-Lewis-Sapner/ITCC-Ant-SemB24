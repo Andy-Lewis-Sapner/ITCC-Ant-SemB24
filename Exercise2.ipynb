{
  "nbformat": 4,
  "nbformat_minor": 0,
  "metadata": {
    "colab": {
      "provenance": [],
      "authorship_tag": "ABX9TyO3hVgRUODxHeA75KAQPyNm",
      "include_colab_link": true
    },
    "kernelspec": {
      "name": "python3",
      "display_name": "Python 3"
    },
    "language_info": {
      "name": "python"
    },
    "widgets": {
      "application/vnd.jupyter.widget-state+json": {
        "510f330e58f643858ee37bcf2760cda5": {
          "model_module": "@jupyter-widgets/controls",
          "model_name": "VBoxModel",
          "model_module_version": "1.5.0",
          "state": {
            "_dom_classes": [],
            "_model_module": "@jupyter-widgets/controls",
            "_model_module_version": "1.5.0",
            "_model_name": "VBoxModel",
            "_view_count": null,
            "_view_module": "@jupyter-widgets/controls",
            "_view_module_version": "1.5.0",
            "_view_name": "VBoxView",
            "box_style": "",
            "children": [
              "IPY_MODEL_96046c6efa4d44708086dc6e6464fca6",
              "IPY_MODEL_1ca3bed46fe04002b7ff4264e9d10b2c",
              "IPY_MODEL_f92a2eba319b4406a3aaf11aa9628115",
              "IPY_MODEL_682facaf4624446984f6767254817f6a",
              "IPY_MODEL_5d979798b6ac4b53b84094177918c5eb",
              "IPY_MODEL_7f2276a2ba784d5681da8f5bf9cb2599",
              "IPY_MODEL_49e3bb8d4fd74b689e315bd64953ca6a",
              "IPY_MODEL_9d8a5e855ddd45cbb9cf2ef4cc208ff3"
            ],
            "layout": "IPY_MODEL_e65fc6b6b0704fa3b48a1db660a74ed4"
          }
        },
        "96046c6efa4d44708086dc6e6464fca6": {
          "model_module": "@jupyter-widgets/controls",
          "model_name": "DropdownModel",
          "model_module_version": "1.5.0",
          "state": {
            "_dom_classes": [],
            "_model_module": "@jupyter-widgets/controls",
            "_model_module_version": "1.5.0",
            "_model_name": "DropdownModel",
            "_options_labels": [
              "Alice",
              "Bob",
              "Eva",
              "David",
              "Sophia",
              "Michael",
              "Olivia",
              "Daniel",
              "Emily",
              "William"
            ],
            "_view_count": null,
            "_view_module": "@jupyter-widgets/controls",
            "_view_module_version": "1.5.0",
            "_view_name": "DropdownView",
            "description": "First Name: ",
            "description_tooltip": null,
            "disabled": false,
            "index": 0,
            "layout": "IPY_MODEL_959ae4a6c24249448a0ad11895664f8d",
            "style": "IPY_MODEL_21029fa37d734140ad73fb61f208d100"
          }
        },
        "1ca3bed46fe04002b7ff4264e9d10b2c": {
          "model_module": "@jupyter-widgets/controls",
          "model_name": "TextModel",
          "model_module_version": "1.5.0",
          "state": {
            "_dom_classes": [],
            "_model_module": "@jupyter-widgets/controls",
            "_model_module_version": "1.5.0",
            "_model_name": "TextModel",
            "_view_count": null,
            "_view_module": "@jupyter-widgets/controls",
            "_view_module_version": "1.5.0",
            "_view_name": "TextView",
            "continuous_update": true,
            "description": "Last Name: ",
            "description_tooltip": null,
            "disabled": true,
            "layout": "IPY_MODEL_959ae4a6c24249448a0ad11895664f8d",
            "placeholder": "​",
            "style": "IPY_MODEL_659dbdb5446d4a87b7b6e2c8b234cab1",
            "value": "Johnson"
          }
        },
        "f92a2eba319b4406a3aaf11aa9628115": {
          "model_module": "@jupyter-widgets/controls",
          "model_name": "TextModel",
          "model_module_version": "1.5.0",
          "state": {
            "_dom_classes": [],
            "_model_module": "@jupyter-widgets/controls",
            "_model_module_version": "1.5.0",
            "_model_name": "TextModel",
            "_view_count": null,
            "_view_module": "@jupyter-widgets/controls",
            "_view_module_version": "1.5.0",
            "_view_name": "TextView",
            "continuous_update": true,
            "description": "Mail: ",
            "description_tooltip": null,
            "disabled": true,
            "layout": "IPY_MODEL_959ae4a6c24249448a0ad11895664f8d",
            "placeholder": "​",
            "style": "IPY_MODEL_3625b3300a9247899c753988099a9bbf",
            "value": "alice.johnson@example.com"
          }
        },
        "682facaf4624446984f6767254817f6a": {
          "model_module": "@jupyter-widgets/controls",
          "model_name": "TextareaModel",
          "model_module_version": "1.5.0",
          "state": {
            "_dom_classes": [],
            "_model_module": "@jupyter-widgets/controls",
            "_model_module_version": "1.5.0",
            "_model_name": "TextareaModel",
            "_view_count": null,
            "_view_module": "@jupyter-widgets/controls",
            "_view_module_version": "1.5.0",
            "_view_name": "TextareaView",
            "continuous_update": true,
            "description": "Courses: ",
            "description_tooltip": null,
            "disabled": true,
            "layout": "IPY_MODEL_33fd346463d0429caf508e58c0a7e380",
            "placeholder": "​",
            "rows": null,
            "style": "IPY_MODEL_ab8d771739eb49c78100d72c7c149809",
            "value": "Physics, \nProgramming"
          }
        },
        "5d979798b6ac4b53b84094177918c5eb": {
          "model_module": "@jupyter-widgets/controls",
          "model_name": "TextModel",
          "model_module_version": "1.5.0",
          "state": {
            "_dom_classes": [],
            "_model_module": "@jupyter-widgets/controls",
            "_model_module_version": "1.5.0",
            "_model_name": "TextModel",
            "_view_count": null,
            "_view_module": "@jupyter-widgets/controls",
            "_view_module_version": "1.5.0",
            "_view_name": "TextView",
            "continuous_update": true,
            "description": "Link: ",
            "description_tooltip": null,
            "disabled": true,
            "layout": "IPY_MODEL_959ae4a6c24249448a0ad11895664f8d",
            "placeholder": "​",
            "style": "IPY_MODEL_4cb9cbcd0efe48b8b31fb1ab812c24ed",
            "value": "https://www.coursera.org/"
          }
        },
        "7f2276a2ba784d5681da8f5bf9cb2599": {
          "model_module": "@jupyter-widgets/controls",
          "model_name": "TextModel",
          "model_module_version": "1.5.0",
          "state": {
            "_dom_classes": [],
            "_model_module": "@jupyter-widgets/controls",
            "_model_module_version": "1.5.0",
            "_model_name": "TextModel",
            "_view_count": null,
            "_view_module": "@jupyter-widgets/controls",
            "_view_module_version": "1.5.0",
            "_view_name": "TextView",
            "continuous_update": true,
            "description": "Program: ",
            "description_tooltip": null,
            "disabled": false,
            "layout": "IPY_MODEL_959ae4a6c24249448a0ad11895664f8d",
            "placeholder": "​",
            "style": "IPY_MODEL_2eb3ed273684445990a490919b09848e",
            "value": ""
          }
        },
        "49e3bb8d4fd74b689e315bd64953ca6a": {
          "model_module": "@jupyter-widgets/controls",
          "model_name": "ButtonModel",
          "model_module_version": "1.5.0",
          "state": {
            "_dom_classes": [],
            "_model_module": "@jupyter-widgets/controls",
            "_model_module_version": "1.5.0",
            "_model_name": "ButtonModel",
            "_view_count": null,
            "_view_module": "@jupyter-widgets/controls",
            "_view_module_version": "1.5.0",
            "_view_name": "ButtonView",
            "button_style": "",
            "description": "Update",
            "disabled": false,
            "icon": "",
            "layout": "IPY_MODEL_959ae4a6c24249448a0ad11895664f8d",
            "style": "IPY_MODEL_a649b58fe728455687043aeb312f20d9",
            "tooltip": ""
          }
        },
        "9d8a5e855ddd45cbb9cf2ef4cc208ff3": {
          "model_module": "@jupyter-widgets/output",
          "model_name": "OutputModel",
          "model_module_version": "1.0.0",
          "state": {
            "_dom_classes": [],
            "_model_module": "@jupyter-widgets/output",
            "_model_module_version": "1.0.0",
            "_model_name": "OutputModel",
            "_view_count": null,
            "_view_module": "@jupyter-widgets/output",
            "_view_module_version": "1.0.0",
            "_view_name": "OutputView",
            "layout": "IPY_MODEL_36569b77303f487ca26a3780240064c2",
            "msg_id": "",
            "outputs": []
          }
        },
        "e65fc6b6b0704fa3b48a1db660a74ed4": {
          "model_module": "@jupyter-widgets/base",
          "model_name": "LayoutModel",
          "model_module_version": "1.2.0",
          "state": {
            "_model_module": "@jupyter-widgets/base",
            "_model_module_version": "1.2.0",
            "_model_name": "LayoutModel",
            "_view_count": null,
            "_view_module": "@jupyter-widgets/base",
            "_view_module_version": "1.2.0",
            "_view_name": "LayoutView",
            "align_content": null,
            "align_items": "stretch",
            "align_self": null,
            "border": "1px solid orange",
            "bottom": null,
            "display": "flex",
            "flex": null,
            "flex_flow": "column",
            "grid_area": null,
            "grid_auto_columns": null,
            "grid_auto_flow": null,
            "grid_auto_rows": null,
            "grid_column": null,
            "grid_gap": null,
            "grid_row": null,
            "grid_template_areas": null,
            "grid_template_columns": null,
            "grid_template_rows": null,
            "height": null,
            "justify_content": null,
            "justify_items": null,
            "left": null,
            "margin": "auto",
            "max_height": null,
            "max_width": null,
            "min_height": null,
            "min_width": null,
            "object_fit": null,
            "object_position": null,
            "order": null,
            "overflow": null,
            "overflow_x": null,
            "overflow_y": null,
            "padding": "5px",
            "right": null,
            "top": null,
            "visibility": null,
            "width": "30%"
          }
        },
        "959ae4a6c24249448a0ad11895664f8d": {
          "model_module": "@jupyter-widgets/base",
          "model_name": "LayoutModel",
          "model_module_version": "1.2.0",
          "state": {
            "_model_module": "@jupyter-widgets/base",
            "_model_module_version": "1.2.0",
            "_model_name": "LayoutModel",
            "_view_count": null,
            "_view_module": "@jupyter-widgets/base",
            "_view_module_version": "1.2.0",
            "_view_name": "LayoutView",
            "align_content": null,
            "align_items": null,
            "align_self": null,
            "border": null,
            "bottom": null,
            "display": null,
            "flex": null,
            "flex_flow": null,
            "grid_area": null,
            "grid_auto_columns": null,
            "grid_auto_flow": null,
            "grid_auto_rows": null,
            "grid_column": null,
            "grid_gap": null,
            "grid_row": null,
            "grid_template_areas": null,
            "grid_template_columns": null,
            "grid_template_rows": null,
            "height": null,
            "justify_content": null,
            "justify_items": null,
            "left": null,
            "margin": "5px auto",
            "max_height": null,
            "max_width": null,
            "min_height": null,
            "min_width": null,
            "object_fit": null,
            "object_position": null,
            "order": null,
            "overflow": null,
            "overflow_x": null,
            "overflow_y": null,
            "padding": null,
            "right": null,
            "top": null,
            "visibility": null,
            "width": "95%"
          }
        },
        "21029fa37d734140ad73fb61f208d100": {
          "model_module": "@jupyter-widgets/controls",
          "model_name": "DescriptionStyleModel",
          "model_module_version": "1.5.0",
          "state": {
            "_model_module": "@jupyter-widgets/controls",
            "_model_module_version": "1.5.0",
            "_model_name": "DescriptionStyleModel",
            "_view_count": null,
            "_view_module": "@jupyter-widgets/base",
            "_view_module_version": "1.2.0",
            "_view_name": "StyleView",
            "description_width": ""
          }
        },
        "659dbdb5446d4a87b7b6e2c8b234cab1": {
          "model_module": "@jupyter-widgets/controls",
          "model_name": "DescriptionStyleModel",
          "model_module_version": "1.5.0",
          "state": {
            "_model_module": "@jupyter-widgets/controls",
            "_model_module_version": "1.5.0",
            "_model_name": "DescriptionStyleModel",
            "_view_count": null,
            "_view_module": "@jupyter-widgets/base",
            "_view_module_version": "1.2.0",
            "_view_name": "StyleView",
            "description_width": ""
          }
        },
        "3625b3300a9247899c753988099a9bbf": {
          "model_module": "@jupyter-widgets/controls",
          "model_name": "DescriptionStyleModel",
          "model_module_version": "1.5.0",
          "state": {
            "_model_module": "@jupyter-widgets/controls",
            "_model_module_version": "1.5.0",
            "_model_name": "DescriptionStyleModel",
            "_view_count": null,
            "_view_module": "@jupyter-widgets/base",
            "_view_module_version": "1.2.0",
            "_view_name": "StyleView",
            "description_width": ""
          }
        },
        "33fd346463d0429caf508e58c0a7e380": {
          "model_module": "@jupyter-widgets/base",
          "model_name": "LayoutModel",
          "model_module_version": "1.2.0",
          "state": {
            "_model_module": "@jupyter-widgets/base",
            "_model_module_version": "1.2.0",
            "_model_name": "LayoutModel",
            "_view_count": null,
            "_view_module": "@jupyter-widgets/base",
            "_view_module_version": "1.2.0",
            "_view_name": "LayoutView",
            "align_content": null,
            "align_items": null,
            "align_self": null,
            "border": null,
            "bottom": null,
            "display": null,
            "flex": null,
            "flex_flow": null,
            "grid_area": null,
            "grid_auto_columns": null,
            "grid_auto_flow": null,
            "grid_auto_rows": null,
            "grid_column": null,
            "grid_gap": null,
            "grid_row": null,
            "grid_template_areas": null,
            "grid_template_columns": null,
            "grid_template_rows": null,
            "height": "120px",
            "justify_content": null,
            "justify_items": null,
            "left": null,
            "margin": "5px auto",
            "max_height": null,
            "max_width": null,
            "min_height": null,
            "min_width": null,
            "object_fit": null,
            "object_position": null,
            "order": null,
            "overflow": null,
            "overflow_x": null,
            "overflow_y": null,
            "padding": null,
            "right": null,
            "top": null,
            "visibility": null,
            "width": "95%"
          }
        },
        "ab8d771739eb49c78100d72c7c149809": {
          "model_module": "@jupyter-widgets/controls",
          "model_name": "DescriptionStyleModel",
          "model_module_version": "1.5.0",
          "state": {
            "_model_module": "@jupyter-widgets/controls",
            "_model_module_version": "1.5.0",
            "_model_name": "DescriptionStyleModel",
            "_view_count": null,
            "_view_module": "@jupyter-widgets/base",
            "_view_module_version": "1.2.0",
            "_view_name": "StyleView",
            "description_width": ""
          }
        },
        "4cb9cbcd0efe48b8b31fb1ab812c24ed": {
          "model_module": "@jupyter-widgets/controls",
          "model_name": "DescriptionStyleModel",
          "model_module_version": "1.5.0",
          "state": {
            "_model_module": "@jupyter-widgets/controls",
            "_model_module_version": "1.5.0",
            "_model_name": "DescriptionStyleModel",
            "_view_count": null,
            "_view_module": "@jupyter-widgets/base",
            "_view_module_version": "1.2.0",
            "_view_name": "StyleView",
            "description_width": ""
          }
        },
        "2eb3ed273684445990a490919b09848e": {
          "model_module": "@jupyter-widgets/controls",
          "model_name": "DescriptionStyleModel",
          "model_module_version": "1.5.0",
          "state": {
            "_model_module": "@jupyter-widgets/controls",
            "_model_module_version": "1.5.0",
            "_model_name": "DescriptionStyleModel",
            "_view_count": null,
            "_view_module": "@jupyter-widgets/base",
            "_view_module_version": "1.2.0",
            "_view_name": "StyleView",
            "description_width": ""
          }
        },
        "a649b58fe728455687043aeb312f20d9": {
          "model_module": "@jupyter-widgets/controls",
          "model_name": "ButtonStyleModel",
          "model_module_version": "1.5.0",
          "state": {
            "_model_module": "@jupyter-widgets/controls",
            "_model_module_version": "1.5.0",
            "_model_name": "ButtonStyleModel",
            "_view_count": null,
            "_view_module": "@jupyter-widgets/base",
            "_view_module_version": "1.2.0",
            "_view_name": "StyleView",
            "button_color": "green",
            "font_weight": ""
          }
        },
        "36569b77303f487ca26a3780240064c2": {
          "model_module": "@jupyter-widgets/base",
          "model_name": "LayoutModel",
          "model_module_version": "1.2.0",
          "state": {
            "_model_module": "@jupyter-widgets/base",
            "_model_module_version": "1.2.0",
            "_model_name": "LayoutModel",
            "_view_count": null,
            "_view_module": "@jupyter-widgets/base",
            "_view_module_version": "1.2.0",
            "_view_name": "LayoutView",
            "align_content": null,
            "align_items": null,
            "align_self": null,
            "border": null,
            "bottom": null,
            "display": null,
            "flex": null,
            "flex_flow": null,
            "grid_area": null,
            "grid_auto_columns": null,
            "grid_auto_flow": null,
            "grid_auto_rows": null,
            "grid_column": null,
            "grid_gap": null,
            "grid_row": null,
            "grid_template_areas": null,
            "grid_template_columns": null,
            "grid_template_rows": null,
            "height": null,
            "justify_content": null,
            "justify_items": null,
            "left": null,
            "margin": null,
            "max_height": null,
            "max_width": null,
            "min_height": null,
            "min_width": null,
            "object_fit": null,
            "object_position": null,
            "order": null,
            "overflow": null,
            "overflow_x": null,
            "overflow_y": null,
            "padding": null,
            "right": null,
            "top": null,
            "visibility": null,
            "width": null
          }
        }
      }
    }
  },
  "cells": [
    {
      "cell_type": "markdown",
      "metadata": {
        "id": "view-in-github",
        "colab_type": "text"
      },
      "source": [
        "<a href=\"https://colab.research.google.com/github/Andy-Lewis-Sapner/ITCC-Ant-SemB24/blob/master/Exercise2.ipynb\" target=\"_parent\"><img src=\"https://colab.research.google.com/assets/colab-badge.svg\" alt=\"Open In Colab\"/></a>"
      ]
    },
    {
      "cell_type": "code",
      "execution_count": null,
      "metadata": {
        "colab": {
          "base_uri": "https://localhost:8080/"
        },
        "id": "yJbREqDb6p4x",
        "outputId": "16659f49-002f-4f11-a588-53bbf985586e"
      },
      "outputs": [
        {
          "output_type": "stream",
          "name": "stdout",
          "text": [
            "Drive already mounted at /content/drive; to attempt to forcibly remount, call drive.mount(\"/content/drive\", force_remount=True).\n"
          ]
        }
      ],
      "source": [
        "from google.colab import drive\n",
        "drive.mount('/content/drive')"
      ]
    },
    {
      "cell_type": "code",
      "source": [
        "import ipywidgets as widgets\n",
        "from IPython.display import display\n",
        "import json"
      ],
      "metadata": {
        "id": "ULe1yZMt6yUQ"
      },
      "execution_count": null,
      "outputs": []
    },
    {
      "cell_type": "code",
      "source": [
        "def readStudentsFile(path):\n",
        "  with open(path, \"r\") as file:\n",
        "    list_of_students = json.load(file)\n",
        "    file.close()\n",
        "  return list_of_students"
      ],
      "metadata": {
        "id": "NH2Qbxr67OGB"
      },
      "execution_count": null,
      "outputs": []
    },
    {
      "cell_type": "code",
      "source": [
        "def getListOfNames(list_of_students):\n",
        "  all_names = []\n",
        "  for details in list_of_students:\n",
        "    all_names.append(details[\"Name\"])\n",
        "  return all_names"
      ],
      "metadata": {
        "id": "zIMo76x6-gbh"
      },
      "execution_count": null,
      "outputs": []
    },
    {
      "cell_type": "code",
      "source": [
        "def on_change(change):\n",
        "  output.clear_output()\n",
        "  for details in list_of_students:\n",
        "    if details[\"Name\"] == change.new:\n",
        "      last_name.value = details[\"Surname\"]\n",
        "      mail.value = details[\"Mail\"]\n",
        "      courses.value = getCoursesAsString(details[\"Courses\"])\n",
        "      link.value = details[\"Link\"]\n",
        "      if \"Program\" in details.keys():\n",
        "        program.value = details[\"Program\"]\n",
        "      else:\n",
        "        program.value = \"\"\n"
      ],
      "metadata": {
        "id": "duKthYep7RG6"
      },
      "execution_count": null,
      "outputs": []
    },
    {
      "cell_type": "code",
      "source": [
        "def on_button_clicked(b):\n",
        "  output.clear_output()\n",
        "  if program.value.strip() == \"\":\n",
        "    with output:\n",
        "      print(\"Please enter a program!\")\n",
        "      return\n",
        "  for details in list_of_students:\n",
        "    if details[\"Name\"] == names_dropdown.value:\n",
        "      details.update({\"Program\": program.value})\n",
        "      break\n",
        "  with open(path, 'w') as file:\n",
        "    json.dump(list_of_students, file)\n",
        "    file.close()\n",
        "    with output:\n",
        "      print(\"Program has been updated!\")"
      ],
      "metadata": {
        "id": "Tjzlp7KZ7UT2"
      },
      "execution_count": null,
      "outputs": []
    },
    {
      "cell_type": "code",
      "source": [
        "def getCoursesAsString(courses):\n",
        "  courses_string = \"\"\n",
        "  for course in courses:\n",
        "    courses_string += course + \", \\n\"\n",
        "  return courses_string[:-3]"
      ],
      "metadata": {
        "id": "K81VMuEcAPOm"
      },
      "execution_count": null,
      "outputs": []
    },
    {
      "cell_type": "code",
      "source": [
        "path = '/content/drive/My Drive/Colab Notebooks/IntroToCloudComputing/students.json'\n",
        "list_of_students = readStudentsFile(path)\n",
        "all_names = getListOfNames(list_of_students)\n",
        "\n",
        "common_layout = widgets.Layout(\n",
        "    width='95%',\n",
        "    margin='5px auto'\n",
        ")\n",
        "\n",
        "names_dropdown = widgets.Dropdown(\n",
        "    options = all_names,\n",
        "    value = all_names[0],\n",
        "    layout=common_layout,\n",
        "    description = \"First Name: \"\n",
        ")\n",
        "names_dropdown.observe(on_change)\n",
        "\n",
        "last_name = widgets.Text(\n",
        "    value = list_of_students[0][\"Surname\"],\n",
        "    description = \"Last Name: \",\n",
        "    layout=common_layout,\n",
        "    disabled=True\n",
        ")\n",
        "\n",
        "mail = widgets.Text(\n",
        "    value = list_of_students[0][\"Mail\"],\n",
        "    description = \"Mail: \",\n",
        "    layout=common_layout,\n",
        "    disabled=True\n",
        ")\n",
        "\n",
        "courses = widgets.Textarea(\n",
        "    value = getCoursesAsString(list_of_students[0][\"Courses\"]),\n",
        "    description = \"Courses: \",\n",
        "    layout=widgets.Layout(width='95%', margin='5px auto', height='120px'),\n",
        "    disabled=True\n",
        ")\n",
        "\n",
        "link = widgets.Text(\n",
        "    value = list_of_students[0][\"Link\"],\n",
        "    description = \"Link: \",\n",
        "    layout=common_layout,\n",
        "    disabled=True\n",
        ")\n",
        "\n",
        "program = widgets.Text(\n",
        "    value = \"\",\n",
        "    description = \"Program: \",\n",
        "    layout=common_layout\n",
        ")\n",
        "\n",
        "button = widgets.Button(\n",
        "    description=\"Update\",\n",
        "    layout=common_layout\n",
        ")\n",
        "button.style.button_color = 'green'\n",
        "button.on_click(on_button_clicked)\n",
        "\n",
        "output = widgets.Output()\n",
        "\n",
        "vbox = widgets.VBox(children=[names_dropdown, last_name, mail, courses, link, program, button, output],\n",
        "                    layout=widgets.Layout(\n",
        "                      display='flex',\n",
        "                      flex_flow='column',\n",
        "                      align_items='stretch',\n",
        "                      border='1px solid orange',\n",
        "                      width='30%',\n",
        "                      margin='auto',\n",
        "                      padding='5px')\n",
        ")\n",
        "display(vbox)"
      ],
      "metadata": {
        "colab": {
          "base_uri": "https://localhost:8080/",
          "height": 387,
          "referenced_widgets": [
            "510f330e58f643858ee37bcf2760cda5",
            "96046c6efa4d44708086dc6e6464fca6",
            "1ca3bed46fe04002b7ff4264e9d10b2c",
            "f92a2eba319b4406a3aaf11aa9628115",
            "682facaf4624446984f6767254817f6a",
            "5d979798b6ac4b53b84094177918c5eb",
            "7f2276a2ba784d5681da8f5bf9cb2599",
            "49e3bb8d4fd74b689e315bd64953ca6a",
            "9d8a5e855ddd45cbb9cf2ef4cc208ff3",
            "e65fc6b6b0704fa3b48a1db660a74ed4",
            "959ae4a6c24249448a0ad11895664f8d",
            "21029fa37d734140ad73fb61f208d100",
            "659dbdb5446d4a87b7b6e2c8b234cab1",
            "3625b3300a9247899c753988099a9bbf",
            "33fd346463d0429caf508e58c0a7e380",
            "ab8d771739eb49c78100d72c7c149809",
            "4cb9cbcd0efe48b8b31fb1ab812c24ed",
            "2eb3ed273684445990a490919b09848e",
            "a649b58fe728455687043aeb312f20d9",
            "36569b77303f487ca26a3780240064c2"
          ]
        },
        "id": "kBZWnVWb7VEg",
        "outputId": "c3c2aaaf-cd8c-4407-a1de-3be805507555"
      },
      "execution_count": null,
      "outputs": [
        {
          "output_type": "display_data",
          "data": {
            "text/plain": [
              "VBox(children=(Dropdown(description='First Name: ', layout=Layout(margin='5px auto', width='95%'), options=('A…"
            ],
            "application/vnd.jupyter.widget-view+json": {
              "version_major": 2,
              "version_minor": 0,
              "model_id": "510f330e58f643858ee37bcf2760cda5"
            }
          },
          "metadata": {}
        }
      ]
    }
  ]
}