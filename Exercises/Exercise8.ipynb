{
  "nbformat": 4,
  "nbformat_minor": 0,
  "metadata": {
    "colab": {
      "provenance": [],
      "authorship_tag": "ABX9TyMBtDLXyy1ikWU75E0A7h3k",
      "include_colab_link": true
    },
    "kernelspec": {
      "name": "python3",
      "display_name": "Python 3"
    },
    "language_info": {
      "name": "python"
    }
  },
  "cells": [
    {
      "cell_type": "markdown",
      "metadata": {
        "id": "view-in-github",
        "colab_type": "text"
      },
      "source": [
        "<a href=\"https://colab.research.google.com/github/Andy-Lewis-Sapner/ITCC-Ant-SemB24/blob/master/Exercises/Exercise8.ipynb\" target=\"_parent\"><img src=\"https://colab.research.google.com/assets/colab-badge.svg\" alt=\"Open In Colab\"/></a>"
      ]
    },
    {
      "cell_type": "code",
      "execution_count": null,
      "metadata": {
        "id": "5JcCEzJvLHRJ"
      },
      "outputs": [],
      "source": [
        "!pip install firebase\n",
        "!pip install nltk"
      ]
    },
    {
      "cell_type": "code",
      "source": [
        "import nltk\n",
        "from nltk.chat.util import Chat, reflections\n",
        "from firebase import firebase\n",
        "import pandas as pd\n",
        "import numpy as np\n",
        "from datetime import datetime"
      ],
      "metadata": {
        "id": "iUEAb526LO55"
      },
      "execution_count": null,
      "outputs": []
    },
    {
      "cell_type": "code",
      "source": [
        "def connect_to_DB(DB_url):\n",
        " return firebase.FirebaseApplication(DB_url, None)\n",
        "\n",
        "def getJSONFromDB():\n",
        " return list(FBConn.get(\"/onShapeJSON/\", None).values())[-1]\n",
        "\n",
        "DB_url = 'https://onshapeassistant-default-rtdb.firebaseio.com/'\n",
        "FBConn = connect_to_DB(DB_url)"
      ],
      "metadata": {
        "id": "meChkH0QLQOn"
      },
      "execution_count": null,
      "outputs": []
    },
    {
      "cell_type": "code",
      "source": [
        "data = pd.DataFrame(getJSONFromDB())\n",
        "\n",
        "def getUsers():\n",
        "  users_list = data['User'].unique().tolist()\n",
        "  response = \"\\n\"\n",
        "  for user in users_list:\n",
        "    response += f\"{user}\\n\"\n",
        "  return response\n",
        "\n",
        "def getCountsOfTopActions(user_input):\n",
        "  split_user_input = user_input.split(' ')\n",
        "  wanted_actions_number = 0\n",
        "  for res in split_user_input:\n",
        "    if res.isnumeric():\n",
        "      wanted_actions_number = res\n",
        "      break\n",
        "\n",
        "  actions_dict = data['Description'].value_counts().to_dict()\n",
        "  sorted_actions = sorted(actions_dict.items(), key=lambda x: x[1], reverse=True)\n",
        "  wanted_actions = sorted_actions[:int(wanted_actions_number)]\n",
        "  response = \"\"\n",
        "  for action, count in wanted_actions:\n",
        "    response += f\"{action}: {count}\\n\"\n",
        "  return response\n",
        "\n",
        "def getLastDateOfProject():\n",
        "  return str(data['Time'].max())\n",
        "\n",
        "def getActionsOfAUser(user_input):\n",
        "  user_input = user_input.split(' ')\n",
        "  users = data['User'].unique().tolist()\n",
        "  for res in user_input:\n",
        "    res = res[:-1]\n",
        "    if res in users:\n",
        "      user_actions = data[data['User'] == res]['Description'].value_counts().to_dict()\n",
        "      user_actions_mean = np.mean(list(user_actions.values()))\n",
        "      response = \"\\n\"\n",
        "      for action, count in user_actions.items():\n",
        "        if count > user_actions_mean:\n",
        "          response += f\"{action}\\n\"\n",
        "      return response\n",
        "  return \"No user found\"\n",
        "\n",
        "def getDurationOfProject():\n",
        "  return str(pd.to_datetime(data['Time'].max()) - pd.to_datetime(data['Time'].min()))"
      ],
      "metadata": {
        "id": "gTsh9YrKLRUH"
      },
      "execution_count": null,
      "outputs": []
    },
    {
      "cell_type": "code",
      "source": [
        "# Download necessary NLTK data\n",
        "nltk.download('punkt')\n",
        "nltk.download('wordnet')\n",
        "\n",
        "# Define some patterns and responses\n",
        "patterns = [\n",
        "    (r'hi|hello|hey', ['Hello!', 'Hi there!', 'Hey!']),\n",
        "    (r'how are you?', ['I\\'m good, thank you!', 'I\\'m doing well, thanks for asking.']),\n",
        "    (r'what is your name?', ['You can call me ChatBot.', 'I go by the name ChatBot.']),\n",
        "    (r'my name is (.*)', ['glad to meet you.', 'nice to meet you.']),\n",
        "    (r'thank you (.*)', ['welcome!.', 'happy to help!.']),\n",
        "    (r'What is the purpose of the system ?', ['The purpose of the system is to help software managers improve the teams preformance by analyzing theirs work']),\n",
        "    (r'whats included in the software', ['there is a action counter aswell as graphs for every action per worker/student , there is also a notification page for the manager to see important user activity or system notifications']),\n",
        "    (r'what is onshape|onshape|on shape', ['Onshape is a cloud-based CAD platform for product design and development. Learn more here: https://www.onshape.com/']),\n",
        "    (r'how to filter the graph',['by clicking the desirable data']),\n",
        "    (r'how to add a new team member',['at this moment of development we dont have this feature yet.']),\n",
        "    (r'how to show important actions',['important actions are individual, you can filter them to your liking']),\n",
        "    (r'how to show who did the most actions ',['if you go to the team graph section, you can filter it with actions and see who contributed the most']),\n",
        "    (r'can you list all users?', [getUsers()]),\n",
        "    (r'can you list top (.*) common actions?', [getCountsOfTopActions(user_input)]),\n",
        "    (r'what is the last date of a project?', [getLastDateOfProject()]),\n",
        "    (r'can you list common actions of (.*)?', [getActionsOfAUser(user_input)]),\n",
        "    (r'what is the duration of the project?', [getDurationOfProject()])\n",
        "]\n",
        "\n",
        "# Create a chatbot\n",
        "chatbot = Chat(patterns, reflections)\n",
        "\n",
        "# Start the conversation\n",
        "print(\"\\nHello! I'm ChatBot for team Ant. Do you have any questions about the json?\")\n",
        "while True:\n",
        "    user_input = input(\"You: \")\n",
        "\n",
        "    response = chatbot.respond(user_input)\n",
        "    print(\"ChatBot:\", response)\n",
        "    if user_input.lower() == 'exit' or user_input.lower() == 'bye':\n",
        "        break"
      ],
      "metadata": {
        "id": "R0fBftQXLSlk"
      },
      "execution_count": null,
      "outputs": []
    }
  ]
}