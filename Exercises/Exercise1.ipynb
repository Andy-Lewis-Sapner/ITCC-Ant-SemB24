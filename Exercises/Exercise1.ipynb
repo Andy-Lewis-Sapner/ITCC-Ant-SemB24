{
  "nbformat": 4,
  "nbformat_minor": 0,
  "metadata": {
    "colab": {
      "provenance": [],
      "authorship_tag": "ABX9TyOWzqNc/OwCZb4evI/IlSxo",
      "include_colab_link": true
    },
    "kernelspec": {
      "name": "python3",
      "display_name": "Python 3"
    },
    "language_info": {
      "name": "python"
    },
    "widgets": {
      "application/vnd.jupyter.widget-state+json": {
        "2e4e8e69bc504322bd3aebdcb0e4e7a9": {
          "model_module": "@jupyter-widgets/controls",
          "model_name": "VBoxModel",
          "model_module_version": "1.5.0",
          "state": {
            "_dom_classes": [],
            "_model_module": "@jupyter-widgets/controls",
            "_model_module_version": "1.5.0",
            "_model_name": "VBoxModel",
            "_view_count": null,
            "_view_module": "@jupyter-widgets/controls",
            "_view_module_version": "1.5.0",
            "_view_name": "VBoxView",
            "box_style": "",
            "children": [
              "IPY_MODEL_983d7fd75c6f4475989b6204c5edda1c",
              "IPY_MODEL_0415ddf452ab44819d79f2146ddd252e",
              "IPY_MODEL_2530a73bfdfc436cb19e005e48d264cf",
              "IPY_MODEL_4b186f6b018843b8bae1161e09003135",
              "IPY_MODEL_79f820c4909c4aae9d0242577ba65e79",
              "IPY_MODEL_c2f444584c884958ad7b7f0001a02bbb",
              "IPY_MODEL_3dcaa70d5fd3460b80e33f66b5db257b",
              "IPY_MODEL_5eb8be18c2ce4d62b5e92434bb12c9ff"
            ],
            "layout": "IPY_MODEL_1a48bd89d583421eb25ea0d9c06c9886"
          }
        },
        "983d7fd75c6f4475989b6204c5edda1c": {
          "model_module": "@jupyter-widgets/controls",
          "model_name": "DropdownModel",
          "model_module_version": "1.5.0",
          "state": {
            "_dom_classes": [],
            "_model_module": "@jupyter-widgets/controls",
            "_model_module_version": "1.5.0",
            "_model_name": "DropdownModel",
            "_options_labels": [
              "Andy Lewis",
              "Andy"
            ],
            "_view_count": null,
            "_view_module": "@jupyter-widgets/controls",
            "_view_module_version": "1.5.0",
            "_view_name": "DropdownView",
            "description": "First Name: ",
            "description_tooltip": null,
            "disabled": false,
            "index": 0,
            "layout": "IPY_MODEL_afec6fe742474d15a342a37ca9712618",
            "style": "IPY_MODEL_1d51a9a198ae4c55863af6664cf3b794"
          }
        },
        "0415ddf452ab44819d79f2146ddd252e": {
          "model_module": "@jupyter-widgets/controls",
          "model_name": "TextModel",
          "model_module_version": "1.5.0",
          "state": {
            "_dom_classes": [],
            "_model_module": "@jupyter-widgets/controls",
            "_model_module_version": "1.5.0",
            "_model_name": "TextModel",
            "_view_count": null,
            "_view_module": "@jupyter-widgets/controls",
            "_view_module_version": "1.5.0",
            "_view_name": "TextView",
            "continuous_update": true,
            "description": "Last Name: ",
            "description_tooltip": null,
            "disabled": true,
            "layout": "IPY_MODEL_afec6fe742474d15a342a37ca9712618",
            "placeholder": "​",
            "style": "IPY_MODEL_ba20290f7b1a41669148c1d98764fd5e",
            "value": "Sapner"
          }
        },
        "2530a73bfdfc436cb19e005e48d264cf": {
          "model_module": "@jupyter-widgets/controls",
          "model_name": "TextModel",
          "model_module_version": "1.5.0",
          "state": {
            "_dom_classes": [],
            "_model_module": "@jupyter-widgets/controls",
            "_model_module_version": "1.5.0",
            "_model_name": "TextModel",
            "_view_count": null,
            "_view_module": "@jupyter-widgets/controls",
            "_view_module_version": "1.5.0",
            "_view_name": "TextView",
            "continuous_update": true,
            "description": "Mail: ",
            "description_tooltip": null,
            "disabled": true,
            "layout": "IPY_MODEL_afec6fe742474d15a342a37ca9712618",
            "placeholder": "​",
            "style": "IPY_MODEL_8ddb2fad1fd34744893915dde56a113c",
            "value": "Andy.Lewis.Sapner@e.braude.ac.il"
          }
        },
        "4b186f6b018843b8bae1161e09003135": {
          "model_module": "@jupyter-widgets/controls",
          "model_name": "TextareaModel",
          "model_module_version": "1.5.0",
          "state": {
            "_dom_classes": [],
            "_model_module": "@jupyter-widgets/controls",
            "_model_module_version": "1.5.0",
            "_model_name": "TextareaModel",
            "_view_count": null,
            "_view_module": "@jupyter-widgets/controls",
            "_view_module_version": "1.5.0",
            "_view_name": "TextareaView",
            "continuous_update": true,
            "description": "Courses: ",
            "description_tooltip": null,
            "disabled": true,
            "layout": "IPY_MODEL_afec6fe742474d15a342a37ca9712618",
            "placeholder": "​",
            "rows": 7,
            "style": "IPY_MODEL_a5469a055f5e4b6581d018f3aaed47d4",
            "value": "Advanced internet technologies,\nData mining and learning systems,\nIntroduction to artificial intelligence,\nIntroduction to cloud computing,\nPhysics for software engineering,\nThe theory of compilation"
          }
        },
        "79f820c4909c4aae9d0242577ba65e79": {
          "model_module": "@jupyter-widgets/controls",
          "model_name": "TextModel",
          "model_module_version": "1.5.0",
          "state": {
            "_dom_classes": [],
            "_model_module": "@jupyter-widgets/controls",
            "_model_module_version": "1.5.0",
            "_model_name": "TextModel",
            "_view_count": null,
            "_view_module": "@jupyter-widgets/controls",
            "_view_module_version": "1.5.0",
            "_view_name": "TextView",
            "continuous_update": true,
            "description": "Link: ",
            "description_tooltip": null,
            "disabled": true,
            "layout": "IPY_MODEL_afec6fe742474d15a342a37ca9712618",
            "placeholder": "​",
            "style": "IPY_MODEL_4b8b35b24b854683ad09e29280f4173e",
            "value": "https://web.archive.org/"
          }
        },
        "c2f444584c884958ad7b7f0001a02bbb": {
          "model_module": "@jupyter-widgets/controls",
          "model_name": "TextModel",
          "model_module_version": "1.5.0",
          "state": {
            "_dom_classes": [],
            "_model_module": "@jupyter-widgets/controls",
            "_model_module_version": "1.5.0",
            "_model_name": "TextModel",
            "_view_count": null,
            "_view_module": "@jupyter-widgets/controls",
            "_view_module_version": "1.5.0",
            "_view_name": "TextView",
            "continuous_update": true,
            "description": "Program: ",
            "description_tooltip": null,
            "disabled": false,
            "layout": "IPY_MODEL_afec6fe742474d15a342a37ca9712618",
            "placeholder": "​",
            "style": "IPY_MODEL_a12eeeb57d41416db526378cc9e7fb16",
            "value": ""
          }
        },
        "3dcaa70d5fd3460b80e33f66b5db257b": {
          "model_module": "@jupyter-widgets/controls",
          "model_name": "ButtonModel",
          "model_module_version": "1.5.0",
          "state": {
            "_dom_classes": [],
            "_model_module": "@jupyter-widgets/controls",
            "_model_module_version": "1.5.0",
            "_model_name": "ButtonModel",
            "_view_count": null,
            "_view_module": "@jupyter-widgets/controls",
            "_view_module_version": "1.5.0",
            "_view_name": "ButtonView",
            "button_style": "",
            "description": "Update",
            "disabled": false,
            "icon": "",
            "layout": "IPY_MODEL_afec6fe742474d15a342a37ca9712618",
            "style": "IPY_MODEL_f4c703a5efa5408b87b90c9a304a747c",
            "tooltip": ""
          }
        },
        "5eb8be18c2ce4d62b5e92434bb12c9ff": {
          "model_module": "@jupyter-widgets/output",
          "model_name": "OutputModel",
          "model_module_version": "1.0.0",
          "state": {
            "_dom_classes": [],
            "_model_module": "@jupyter-widgets/output",
            "_model_module_version": "1.0.0",
            "_model_name": "OutputModel",
            "_view_count": null,
            "_view_module": "@jupyter-widgets/output",
            "_view_module_version": "1.0.0",
            "_view_name": "OutputView",
            "layout": "IPY_MODEL_33914abf4dc946d895ff1ecea0660232",
            "msg_id": "",
            "outputs": []
          }
        },
        "1a48bd89d583421eb25ea0d9c06c9886": {
          "model_module": "@jupyter-widgets/base",
          "model_name": "LayoutModel",
          "model_module_version": "1.2.0",
          "state": {
            "_model_module": "@jupyter-widgets/base",
            "_model_module_version": "1.2.0",
            "_model_name": "LayoutModel",
            "_view_count": null,
            "_view_module": "@jupyter-widgets/base",
            "_view_module_version": "1.2.0",
            "_view_name": "LayoutView",
            "align_content": null,
            "align_items": "stretch",
            "align_self": null,
            "border": "1px solid orange",
            "bottom": null,
            "display": "flex",
            "flex": null,
            "flex_flow": "column",
            "grid_area": null,
            "grid_auto_columns": null,
            "grid_auto_flow": null,
            "grid_auto_rows": null,
            "grid_column": null,
            "grid_gap": null,
            "grid_row": null,
            "grid_template_areas": null,
            "grid_template_columns": null,
            "grid_template_rows": null,
            "height": null,
            "justify_content": null,
            "justify_items": null,
            "left": null,
            "margin": "auto",
            "max_height": null,
            "max_width": null,
            "min_height": null,
            "min_width": null,
            "object_fit": null,
            "object_position": null,
            "order": null,
            "overflow": null,
            "overflow_x": null,
            "overflow_y": null,
            "padding": "5px",
            "right": null,
            "top": null,
            "visibility": null,
            "width": "30%"
          }
        },
        "afec6fe742474d15a342a37ca9712618": {
          "model_module": "@jupyter-widgets/base",
          "model_name": "LayoutModel",
          "model_module_version": "1.2.0",
          "state": {
            "_model_module": "@jupyter-widgets/base",
            "_model_module_version": "1.2.0",
            "_model_name": "LayoutModel",
            "_view_count": null,
            "_view_module": "@jupyter-widgets/base",
            "_view_module_version": "1.2.0",
            "_view_name": "LayoutView",
            "align_content": null,
            "align_items": null,
            "align_self": null,
            "border": null,
            "bottom": null,
            "display": null,
            "flex": null,
            "flex_flow": null,
            "grid_area": null,
            "grid_auto_columns": null,
            "grid_auto_flow": null,
            "grid_auto_rows": null,
            "grid_column": null,
            "grid_gap": null,
            "grid_row": null,
            "grid_template_areas": null,
            "grid_template_columns": null,
            "grid_template_rows": null,
            "height": null,
            "justify_content": null,
            "justify_items": null,
            "left": null,
            "margin": "3px auto",
            "max_height": null,
            "max_width": null,
            "min_height": null,
            "min_width": null,
            "object_fit": null,
            "object_position": null,
            "order": null,
            "overflow": null,
            "overflow_x": null,
            "overflow_y": null,
            "padding": "2px",
            "right": null,
            "top": null,
            "visibility": null,
            "width": "100%"
          }
        },
        "1d51a9a198ae4c55863af6664cf3b794": {
          "model_module": "@jupyter-widgets/controls",
          "model_name": "DescriptionStyleModel",
          "model_module_version": "1.5.0",
          "state": {
            "_model_module": "@jupyter-widgets/controls",
            "_model_module_version": "1.5.0",
            "_model_name": "DescriptionStyleModel",
            "_view_count": null,
            "_view_module": "@jupyter-widgets/base",
            "_view_module_version": "1.2.0",
            "_view_name": "StyleView",
            "description_width": ""
          }
        },
        "ba20290f7b1a41669148c1d98764fd5e": {
          "model_module": "@jupyter-widgets/controls",
          "model_name": "DescriptionStyleModel",
          "model_module_version": "1.5.0",
          "state": {
            "_model_module": "@jupyter-widgets/controls",
            "_model_module_version": "1.5.0",
            "_model_name": "DescriptionStyleModel",
            "_view_count": null,
            "_view_module": "@jupyter-widgets/base",
            "_view_module_version": "1.2.0",
            "_view_name": "StyleView",
            "description_width": ""
          }
        },
        "8ddb2fad1fd34744893915dde56a113c": {
          "model_module": "@jupyter-widgets/controls",
          "model_name": "DescriptionStyleModel",
          "model_module_version": "1.5.0",
          "state": {
            "_model_module": "@jupyter-widgets/controls",
            "_model_module_version": "1.5.0",
            "_model_name": "DescriptionStyleModel",
            "_view_count": null,
            "_view_module": "@jupyter-widgets/base",
            "_view_module_version": "1.2.0",
            "_view_name": "StyleView",
            "description_width": ""
          }
        },
        "a5469a055f5e4b6581d018f3aaed47d4": {
          "model_module": "@jupyter-widgets/controls",
          "model_name": "DescriptionStyleModel",
          "model_module_version": "1.5.0",
          "state": {
            "_model_module": "@jupyter-widgets/controls",
            "_model_module_version": "1.5.0",
            "_model_name": "DescriptionStyleModel",
            "_view_count": null,
            "_view_module": "@jupyter-widgets/base",
            "_view_module_version": "1.2.0",
            "_view_name": "StyleView",
            "description_width": ""
          }
        },
        "4b8b35b24b854683ad09e29280f4173e": {
          "model_module": "@jupyter-widgets/controls",
          "model_name": "DescriptionStyleModel",
          "model_module_version": "1.5.0",
          "state": {
            "_model_module": "@jupyter-widgets/controls",
            "_model_module_version": "1.5.0",
            "_model_name": "DescriptionStyleModel",
            "_view_count": null,
            "_view_module": "@jupyter-widgets/base",
            "_view_module_version": "1.2.0",
            "_view_name": "StyleView",
            "description_width": ""
          }
        },
        "a12eeeb57d41416db526378cc9e7fb16": {
          "model_module": "@jupyter-widgets/controls",
          "model_name": "DescriptionStyleModel",
          "model_module_version": "1.5.0",
          "state": {
            "_model_module": "@jupyter-widgets/controls",
            "_model_module_version": "1.5.0",
            "_model_name": "DescriptionStyleModel",
            "_view_count": null,
            "_view_module": "@jupyter-widgets/base",
            "_view_module_version": "1.2.0",
            "_view_name": "StyleView",
            "description_width": ""
          }
        },
        "f4c703a5efa5408b87b90c9a304a747c": {
          "model_module": "@jupyter-widgets/controls",
          "model_name": "ButtonStyleModel",
          "model_module_version": "1.5.0",
          "state": {
            "_model_module": "@jupyter-widgets/controls",
            "_model_module_version": "1.5.0",
            "_model_name": "ButtonStyleModel",
            "_view_count": null,
            "_view_module": "@jupyter-widgets/base",
            "_view_module_version": "1.2.0",
            "_view_name": "StyleView",
            "button_color": "green",
            "font_weight": ""
          }
        },
        "33914abf4dc946d895ff1ecea0660232": {
          "model_module": "@jupyter-widgets/base",
          "model_name": "LayoutModel",
          "model_module_version": "1.2.0",
          "state": {
            "_model_module": "@jupyter-widgets/base",
            "_model_module_version": "1.2.0",
            "_model_name": "LayoutModel",
            "_view_count": null,
            "_view_module": "@jupyter-widgets/base",
            "_view_module_version": "1.2.0",
            "_view_name": "LayoutView",
            "align_content": null,
            "align_items": null,
            "align_self": null,
            "border": null,
            "bottom": null,
            "display": null,
            "flex": null,
            "flex_flow": null,
            "grid_area": null,
            "grid_auto_columns": null,
            "grid_auto_flow": null,
            "grid_auto_rows": null,
            "grid_column": null,
            "grid_gap": null,
            "grid_row": null,
            "grid_template_areas": null,
            "grid_template_columns": null,
            "grid_template_rows": null,
            "height": null,
            "justify_content": null,
            "justify_items": null,
            "left": null,
            "margin": null,
            "max_height": null,
            "max_width": null,
            "min_height": null,
            "min_width": null,
            "object_fit": null,
            "object_position": null,
            "order": null,
            "overflow": null,
            "overflow_x": null,
            "overflow_y": null,
            "padding": null,
            "right": null,
            "top": null,
            "visibility": null,
            "width": null
          }
        }
      }
    }
  },
  "cells": [
    {
      "cell_type": "markdown",
      "metadata": {
        "id": "view-in-github",
        "colab_type": "text"
      },
      "source": [
        "<a href=\"https://colab.research.google.com/github/Andy-Lewis-Sapner/ITCC-Ant-SemB24/blob/master/Exercises/Exercise1.ipynb\" target=\"_parent\"><img src=\"https://colab.research.google.com/assets/colab-badge.svg\" alt=\"Open In Colab\"/></a>"
      ]
    },
    {
      "cell_type": "code",
      "source": [
        "# Mount Google Drive so that we can access the files that are stored in it.\n",
        "from google.colab import drive\n",
        "drive.mount('/content/drive')"
      ],
      "metadata": {
        "id": "yxOpIOb4c5Fh",
        "collapsed": true,
        "colab": {
          "base_uri": "https://localhost:8080/"
        },
        "outputId": "21bb6efd-335c-43b8-dc40-9834e1d048d1"
      },
      "execution_count": 19,
      "outputs": [
        {
          "output_type": "stream",
          "name": "stdout",
          "text": [
            "Drive already mounted at /content/drive; to attempt to forcibly remount, call drive.mount(\"/content/drive\", force_remount=True).\n"
          ]
        }
      ]
    },
    {
      "cell_type": "code",
      "source": [
        "# Import of necessary libraries.\n",
        "import ipywidgets as widgets\n",
        "from IPython.display import display, HTML"
      ],
      "metadata": {
        "id": "rHb3BSSi3rGu"
      },
      "execution_count": 20,
      "outputs": []
    },
    {
      "cell_type": "code",
      "source": [
        "# A function that reads a text file and returns a list of the details of students.\n",
        "def readStudentsFile():\n",
        "  list_of_students = []\n",
        "  with open(path, 'r') as file:\n",
        "    for line in file:\n",
        "      line = line.strip()\n",
        "      student_details = line.split(\", \")\n",
        "      if len(student_details) == 5:\n",
        "        list_of_students.append(student_details)\n",
        "    file.close()\n",
        "  return list_of_students"
      ],
      "metadata": {
        "id": "lZapdQW83zwW"
      },
      "execution_count": 21,
      "outputs": []
    },
    {
      "cell_type": "code",
      "source": [
        "# A function that updates the details of a student when the dropdown value (the name) is changed.\n",
        "def on_change(change):\n",
        "  output.clear_output()\n",
        "  for details in list_of_students:\n",
        "    if details[0] == change.new:\n",
        "      last_name.value = details[1]\n",
        "      mail.value = details[2]\n",
        "      courses.value = details[3][1:-1].replace('; ', ',\\n')\n",
        "      courses.rows = len(details[3].split('; '))\n",
        "      link.value = details[4]"
      ],
      "metadata": {
        "id": "6in5lsUS32V7"
      },
      "execution_count": 22,
      "outputs": []
    },
    {
      "cell_type": "code",
      "source": [
        "# A function that updates (adds) the details of a student (in the text file and the form) when the update button is clicked.\n",
        "def on_button_clicked(b):\n",
        "  if program.value == \"\":\n",
        "    return\n",
        "  new_str = \"\"\n",
        "  for details in list_of_students:\n",
        "    if details[0] == names_dropdown.value:\n",
        "      new_str = '\\n' + \"\".join([item + \", \" for item in details]) + program.value\n",
        "  if new_str != \"\":\n",
        "   with open(path, 'a') as file:\n",
        "    file.write(new_str)\n",
        "    file.close()\n",
        "    output.clear_output()\n",
        "    with output:\n",
        "      print(\"Program has been added!\")\n",
        "    program.value = \"\""
      ],
      "metadata": {
        "id": "3bF2cEdo33dD"
      },
      "execution_count": 23,
      "outputs": []
    },
    {
      "cell_type": "code",
      "execution_count": 28,
      "metadata": {
        "id": "ulOBs_L658QP",
        "colab": {
          "base_uri": "https://localhost:8080/",
          "height": 376,
          "referenced_widgets": [
            "2e4e8e69bc504322bd3aebdcb0e4e7a9",
            "983d7fd75c6f4475989b6204c5edda1c",
            "0415ddf452ab44819d79f2146ddd252e",
            "2530a73bfdfc436cb19e005e48d264cf",
            "4b186f6b018843b8bae1161e09003135",
            "79f820c4909c4aae9d0242577ba65e79",
            "c2f444584c884958ad7b7f0001a02bbb",
            "3dcaa70d5fd3460b80e33f66b5db257b",
            "5eb8be18c2ce4d62b5e92434bb12c9ff",
            "1a48bd89d583421eb25ea0d9c06c9886",
            "afec6fe742474d15a342a37ca9712618",
            "1d51a9a198ae4c55863af6664cf3b794",
            "ba20290f7b1a41669148c1d98764fd5e",
            "8ddb2fad1fd34744893915dde56a113c",
            "a5469a055f5e4b6581d018f3aaed47d4",
            "4b8b35b24b854683ad09e29280f4173e",
            "a12eeeb57d41416db526378cc9e7fb16",
            "f4c703a5efa5408b87b90c9a304a747c",
            "33914abf4dc946d895ff1ecea0660232"
          ]
        },
        "outputId": "41b46e91-ab00-4ccf-de34-56b022bf93f9"
      },
      "outputs": [
        {
          "output_type": "display_data",
          "data": {
            "text/plain": [
              "VBox(children=(Dropdown(description='First Name: ', layout=Layout(margin='3px auto', padding='2px', width='100…"
            ],
            "application/vnd.jupyter.widget-view+json": {
              "version_major": 2,
              "version_minor": 0,
              "model_id": "2e4e8e69bc504322bd3aebdcb0e4e7a9"
            }
          },
          "metadata": {}
        },
        {
          "output_type": "display_data",
          "data": {
            "text/plain": [
              "<IPython.core.display.HTML object>"
            ],
            "text/html": [
              "\n",
              "<style>\n",
              "    .widget-dropdown select {\n",
              "        color: #6BE7B8;\n",
              "    }\n",
              "    .widget-text input[type=\"text\"] {\n",
              "        color: #6BE7B8;\n",
              "    }\n",
              "    .widget-textarea textarea {\n",
              "        color: #6BE7B8;\n",
              "    }\n",
              "</style>\n"
            ]
          },
          "metadata": {}
        }
      ],
      "source": [
        "# The path variable should have the path to the students text file\n",
        "path = '/content/drive/My Drive/students.txt'\n",
        "list_of_students = readStudentsFile()\n",
        "all_names = [student_details[0] for student_details in list_of_students]\n",
        "\n",
        "common_layout = widgets.Layout(\n",
        "    width='100%',\n",
        "    margin='3px auto',\n",
        "    padding='2px'\n",
        ")\n",
        "\n",
        "custom_css = \"\"\"\n",
        "<style>\n",
        "    .widget-dropdown select {\n",
        "        color: #6BE7B8;\n",
        "    }\n",
        "    .widget-text input[type=\"text\"] {\n",
        "        color: #6BE7B8;\n",
        "    }\n",
        "    .widget-textarea textarea {\n",
        "        color: #6BE7B8;\n",
        "    }\n",
        "</style>\n",
        "\"\"\"\n",
        "\n",
        "names_dropdown = widgets.Dropdown(\n",
        "    options = all_names,\n",
        "    value = all_names[0],\n",
        "    layout=common_layout,\n",
        "    description = \"First Name: \"\n",
        ")\n",
        "names_dropdown.observe(on_change)\n",
        "\n",
        "last_name = widgets.Text(\n",
        "    value = list_of_students[0][1],\n",
        "    description = \"Last Name: \",\n",
        "    layout=common_layout,\n",
        "    disabled=True\n",
        ")\n",
        "\n",
        "mail = widgets.Text(\n",
        "    value = list_of_students[0][2],\n",
        "    description = \"Mail: \",\n",
        "    layout=common_layout,\n",
        "    disabled=True\n",
        ")\n",
        "\n",
        "courses = widgets.Textarea(\n",
        "    value = list_of_students[0][3][1:-1].replace('; ', ',\\n'),\n",
        "    description = \"Courses: \",\n",
        "    layout=common_layout,\n",
        "    rows = len(list_of_students[0][3].split('; ')) + 1,\n",
        "    disabled=True\n",
        ")\n",
        "\n",
        "link = widgets.Text(\n",
        "    value = list_of_students[0][4],\n",
        "    description = \"Link: \",\n",
        "    layout=common_layout,\n",
        "    disabled=True\n",
        ")\n",
        "\n",
        "program = widgets.Text(\n",
        "    value = \"\",\n",
        "    description = \"Program: \",\n",
        "    layout=common_layout\n",
        ")\n",
        "\n",
        "button = widgets.Button(\n",
        "    description=\"Update\",\n",
        "    layout=common_layout\n",
        ")\n",
        "button.style.button_color = 'green'\n",
        "button.on_click(on_button_clicked)\n",
        "\n",
        "output = widgets.Output()\n",
        "\n",
        "vbox = widgets.VBox(children=[names_dropdown, last_name, mail, courses, link, program, button, output],\n",
        "                    layout=widgets.Layout(\n",
        "                      display='flex',\n",
        "                      flex_flow='column',\n",
        "                      align_items='stretch',\n",
        "                      border='1px solid orange',\n",
        "                      width='30%',\n",
        "                      margin='auto',\n",
        "                      padding='5px')\n",
        ")\n",
        "display(vbox)\n",
        "display(HTML(custom_css))"
      ]
    }
  ]
}