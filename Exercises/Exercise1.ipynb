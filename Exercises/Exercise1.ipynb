{
  "nbformat": 4,
  "nbformat_minor": 0,
  "metadata": {
    "colab": {
      "provenance": [],
      "authorship_tag": "ABX9TyNsBXflnzXxo3rh9QBXfZ58",
      "include_colab_link": true
    },
    "kernelspec": {
      "name": "python3",
      "display_name": "Python 3"
    },
    "language_info": {
      "name": "python"
    }
  },
  "cells": [
    {
      "cell_type": "markdown",
      "metadata": {
        "id": "view-in-github",
        "colab_type": "text"
      },
      "source": [
        "<a href=\"https://colab.research.google.com/github/Andy-Lewis-Sapner/ITCC-Ant-SemB24/blob/master/Exercises/Exercise1.ipynb\" target=\"_parent\"><img src=\"https://colab.research.google.com/assets/colab-badge.svg\" alt=\"Open In Colab\"/></a>"
      ]
    },
    {
      "cell_type": "markdown",
      "source": [
        "# Introduction to Cloud Computing - Tutorial 1 - Google Colab"
      ],
      "metadata": {
        "id": "xj6XHL5SZ19P"
      }
    },
    {
      "cell_type": "code",
      "source": [
        "# Mount Google Drive so that we can access the files that are stored in it.\n",
        "from google.colab import drive\n",
        "drive.mount('/content/drive')"
      ],
      "metadata": {
        "id": "yxOpIOb4c5Fh",
        "collapsed": true
      },
      "execution_count": null,
      "outputs": []
    },
    {
      "cell_type": "code",
      "source": [
        "# Import of necessary libraries.\n",
        "import ipywidgets as widgets\n",
        "from IPython.display import display, HTML"
      ],
      "metadata": {
        "id": "rHb3BSSi3rGu"
      },
      "execution_count": null,
      "outputs": []
    },
    {
      "cell_type": "code",
      "source": [
        "# A function that reads a text file and returns a list of the details of students.\n",
        "def readStudentsFile():\n",
        "  list_of_students = []\n",
        "  with open(path, 'r') as file:\n",
        "    for line in file:\n",
        "      line = line.strip()\n",
        "      student_details = line.split(\", \")\n",
        "      if len(student_details) == 5:\n",
        "        list_of_students.append(student_details)\n",
        "    file.close()\n",
        "  return list_of_students"
      ],
      "metadata": {
        "id": "lZapdQW83zwW"
      },
      "execution_count": null,
      "outputs": []
    },
    {
      "cell_type": "code",
      "source": [
        "# A function that updates the details of a student when the dropdown value (the name) is changed.\n",
        "def on_change(change):\n",
        "  output.clear_output()\n",
        "  for details in list_of_students:\n",
        "    if details[0] == change.new:\n",
        "      last_name.value = details[1]\n",
        "      mail.value = details[2]\n",
        "      courses.value = details[3][1:-1].replace('; ', ',\\n')\n",
        "      courses.rows = len(details[3].split('; '))\n",
        "      link.value = details[4]"
      ],
      "metadata": {
        "id": "6in5lsUS32V7"
      },
      "execution_count": null,
      "outputs": []
    },
    {
      "cell_type": "code",
      "source": [
        "# A function that updates (adds) the details of a student (in the text file and the form) when the update button is clicked.\n",
        "def on_button_clicked(b):\n",
        "  if program.value == \"\":\n",
        "    return\n",
        "  new_str = \"\"\n",
        "  for details in list_of_students:\n",
        "    if details[0] == names_dropdown.value:\n",
        "      new_str = '\\n' + \"\".join([item + \", \" for item in details]) + program.value\n",
        "  if new_str != \"\":\n",
        "   with open(path, 'a') as file:\n",
        "    file.write(new_str)\n",
        "    file.close()\n",
        "    output.clear_output()\n",
        "    with output:\n",
        "      print(\"Program has been added!\")\n",
        "    program.value = \"\""
      ],
      "metadata": {
        "id": "3bF2cEdo33dD"
      },
      "execution_count": null,
      "outputs": []
    },
    {
      "cell_type": "code",
      "execution_count": null,
      "metadata": {
        "id": "ulOBs_L658QP"
      },
      "outputs": [],
      "source": [
        "# The path variable should have the path to the students text file\n",
        "path = '/content/drive/My Drive/students.txt'\n",
        "list_of_students = readStudentsFile()\n",
        "all_names = [student_details[0] for student_details in list_of_students]\n",
        "\n",
        "common_layout = widgets.Layout(\n",
        "    width='100%',\n",
        "    margin='3px auto',\n",
        "    padding='2px'\n",
        ")\n",
        "\n",
        "names_dropdown = widgets.Dropdown(\n",
        "    options = all_names,\n",
        "    value = all_names[0],\n",
        "    layout=common_layout,\n",
        "    description = \"First Name: \"\n",
        ")\n",
        "names_dropdown.observe(on_change)\n",
        "\n",
        "last_name = widgets.Text(\n",
        "    value = list_of_students[0][1],\n",
        "    description = \"Last Name: \",\n",
        "    layout=common_layout,\n",
        "    disabled=True\n",
        ")\n",
        "\n",
        "mail = widgets.Text(\n",
        "    value = list_of_students[0][2],\n",
        "    description = \"Mail: \",\n",
        "    layout=common_layout,\n",
        "    disabled=True\n",
        ")\n",
        "\n",
        "courses = widgets.Textarea(\n",
        "    value = list_of_students[0][3][1:-1].replace('; ', ',\\n'),\n",
        "    description = \"Courses: \",\n",
        "    layout=common_layout,\n",
        "    rows = len(list_of_students[0][3].split('; ')),\n",
        "    disabled=True\n",
        ")\n",
        "\n",
        "link = widgets.Text(\n",
        "    value = list_of_students[0][4],\n",
        "    description = \"Link: \",\n",
        "    layout=common_layout,\n",
        "    disabled=True\n",
        ")\n",
        "\n",
        "program = widgets.Text(\n",
        "    value = \"\",\n",
        "    description = \"Program: \",\n",
        "    layout=common_layout\n",
        ")\n",
        "\n",
        "button = widgets.Button(\n",
        "    description=\"Update\",\n",
        "    layout=common_layout\n",
        ")\n",
        "button.style.button_color = 'green'\n",
        "button.on_click(on_button_clicked)\n",
        "\n",
        "output = widgets.Output()\n",
        "\n",
        "vbox = widgets.VBox(children=[names_dropdown, last_name, mail, courses, link, program, button, output],\n",
        "                    layout=widgets.Layout(\n",
        "                      display='flex',\n",
        "                      flex_flow='column',\n",
        "                      align_items='stretch',\n",
        "                      border='1px solid orange',\n",
        "                      width='30%',\n",
        "                      margin='auto',\n",
        "                      padding='5px')\n",
        ")\n",
        "display(vbox)\n",
        "\n",
        "custom_css = \"\"\"\n",
        "<style>\n",
        "    .widget-dropdown select {\n",
        "        color: #6BE7B8;\n",
        "    }\n",
        "    .widget-text input[type=\"text\"] {\n",
        "        color: #6BE7B8;\n",
        "    }\n",
        "    .widget-textarea textarea {\n",
        "        color: #6BE7B8;\n",
        "    }\n",
        "</style>\n",
        "\"\"\"\n",
        "display(HTML(custom_css))"
      ]
    }
  ]
}