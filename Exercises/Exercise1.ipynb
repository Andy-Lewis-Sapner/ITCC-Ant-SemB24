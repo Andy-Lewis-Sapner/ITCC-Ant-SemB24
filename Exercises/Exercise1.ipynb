{
  "nbformat": 4,
  "nbformat_minor": 0,
  "metadata": {
    "colab": {
      "provenance": [],
      "authorship_tag": "ABX9TyMpg7GhTjA4rI5WiStm5n0S",
      "include_colab_link": true
    },
    "kernelspec": {
      "name": "python3",
      "display_name": "Python 3"
    },
    "language_info": {
      "name": "python"
    },
    "widgets": {
      "application/vnd.jupyter.widget-state+json": {
        "c41b02b24dc44b478d45c73fd1d0cce6": {
          "model_module": "@jupyter-widgets/controls",
          "model_name": "VBoxModel",
          "model_module_version": "1.5.0",
          "state": {
            "_dom_classes": [],
            "_model_module": "@jupyter-widgets/controls",
            "_model_module_version": "1.5.0",
            "_model_name": "VBoxModel",
            "_view_count": null,
            "_view_module": "@jupyter-widgets/controls",
            "_view_module_version": "1.5.0",
            "_view_name": "VBoxView",
            "box_style": "",
            "children": [
              "IPY_MODEL_62b399da2b004174a577f345ecb5819c",
              "IPY_MODEL_f17630f72da543ee804c1d44d5e910f1",
              "IPY_MODEL_d67956dd99434e44ac51cf3f0e30b459",
              "IPY_MODEL_360ef40387b34ea4b2f1cfcdc42e646a",
              "IPY_MODEL_a2905a89ca9646e8a7fd97d3007f23c9",
              "IPY_MODEL_1ad8af8f2a5b4668893ac1c269c978e5",
              "IPY_MODEL_ca0d990ff961415bb1ce3c1518edb467",
              "IPY_MODEL_f0982e9018764f26a9e601d0b43dd0c6"
            ],
            "layout": "IPY_MODEL_43614dfbde394501bb3081bbe7b8e5f7"
          }
        },
        "62b399da2b004174a577f345ecb5819c": {
          "model_module": "@jupyter-widgets/controls",
          "model_name": "DropdownModel",
          "model_module_version": "1.5.0",
          "state": {
            "_dom_classes": [],
            "_model_module": "@jupyter-widgets/controls",
            "_model_module_version": "1.5.0",
            "_model_name": "DropdownModel",
            "_options_labels": [
              "Andy Lewis",
              "Andy"
            ],
            "_view_count": null,
            "_view_module": "@jupyter-widgets/controls",
            "_view_module_version": "1.5.0",
            "_view_name": "DropdownView",
            "description": "First Name: ",
            "description_tooltip": null,
            "disabled": false,
            "index": 0,
            "layout": "IPY_MODEL_562742e1ffa946609f3a0fbf39d4e749",
            "style": "IPY_MODEL_00c51847cf4b493692a17f1f913c50cf"
          }
        },
        "f17630f72da543ee804c1d44d5e910f1": {
          "model_module": "@jupyter-widgets/controls",
          "model_name": "TextModel",
          "model_module_version": "1.5.0",
          "state": {
            "_dom_classes": [],
            "_model_module": "@jupyter-widgets/controls",
            "_model_module_version": "1.5.0",
            "_model_name": "TextModel",
            "_view_count": null,
            "_view_module": "@jupyter-widgets/controls",
            "_view_module_version": "1.5.0",
            "_view_name": "TextView",
            "continuous_update": true,
            "description": "Last Name: ",
            "description_tooltip": null,
            "disabled": true,
            "layout": "IPY_MODEL_562742e1ffa946609f3a0fbf39d4e749",
            "placeholder": "​",
            "style": "IPY_MODEL_2a5c826da1814ff288c26de6fd3751ea",
            "value": "Sapner"
          }
        },
        "d67956dd99434e44ac51cf3f0e30b459": {
          "model_module": "@jupyter-widgets/controls",
          "model_name": "TextModel",
          "model_module_version": "1.5.0",
          "state": {
            "_dom_classes": [],
            "_model_module": "@jupyter-widgets/controls",
            "_model_module_version": "1.5.0",
            "_model_name": "TextModel",
            "_view_count": null,
            "_view_module": "@jupyter-widgets/controls",
            "_view_module_version": "1.5.0",
            "_view_name": "TextView",
            "continuous_update": true,
            "description": "Mail: ",
            "description_tooltip": null,
            "disabled": true,
            "layout": "IPY_MODEL_562742e1ffa946609f3a0fbf39d4e749",
            "placeholder": "​",
            "style": "IPY_MODEL_ff035efee58a42248324fa9fae09e06a",
            "value": "Andy.Lewis.Sapner@e.braude.ac.il"
          }
        },
        "360ef40387b34ea4b2f1cfcdc42e646a": {
          "model_module": "@jupyter-widgets/controls",
          "model_name": "TextareaModel",
          "model_module_version": "1.5.0",
          "state": {
            "_dom_classes": [],
            "_model_module": "@jupyter-widgets/controls",
            "_model_module_version": "1.5.0",
            "_model_name": "TextareaModel",
            "_view_count": null,
            "_view_module": "@jupyter-widgets/controls",
            "_view_module_version": "1.5.0",
            "_view_name": "TextareaView",
            "continuous_update": true,
            "description": "Courses: ",
            "description_tooltip": null,
            "disabled": true,
            "layout": "IPY_MODEL_562742e1ffa946609f3a0fbf39d4e749",
            "placeholder": "​",
            "rows": 7,
            "style": "IPY_MODEL_bf1c89622217419188e6165ea61650f7",
            "value": "Advanced internet technologies,\nData mining and learning systems,\nIntroduction to artificial intelligence,\nIntroduction to cloud computing,\nPhysics for software engineering,\nThe theory of compilation"
          }
        },
        "a2905a89ca9646e8a7fd97d3007f23c9": {
          "model_module": "@jupyter-widgets/controls",
          "model_name": "TextModel",
          "model_module_version": "1.5.0",
          "state": {
            "_dom_classes": [],
            "_model_module": "@jupyter-widgets/controls",
            "_model_module_version": "1.5.0",
            "_model_name": "TextModel",
            "_view_count": null,
            "_view_module": "@jupyter-widgets/controls",
            "_view_module_version": "1.5.0",
            "_view_name": "TextView",
            "continuous_update": true,
            "description": "Link: ",
            "description_tooltip": null,
            "disabled": true,
            "layout": "IPY_MODEL_562742e1ffa946609f3a0fbf39d4e749",
            "placeholder": "​",
            "style": "IPY_MODEL_c0e817f8d59f465ca68f0a1e24ad1ed5",
            "value": "https://web.archive.org/"
          }
        },
        "1ad8af8f2a5b4668893ac1c269c978e5": {
          "model_module": "@jupyter-widgets/controls",
          "model_name": "TextModel",
          "model_module_version": "1.5.0",
          "state": {
            "_dom_classes": [],
            "_model_module": "@jupyter-widgets/controls",
            "_model_module_version": "1.5.0",
            "_model_name": "TextModel",
            "_view_count": null,
            "_view_module": "@jupyter-widgets/controls",
            "_view_module_version": "1.5.0",
            "_view_name": "TextView",
            "continuous_update": true,
            "description": "Program: ",
            "description_tooltip": null,
            "disabled": false,
            "layout": "IPY_MODEL_562742e1ffa946609f3a0fbf39d4e749",
            "placeholder": "​",
            "style": "IPY_MODEL_99f9ca07764d4b2fae77ef412b7d7613",
            "value": ""
          }
        },
        "ca0d990ff961415bb1ce3c1518edb467": {
          "model_module": "@jupyter-widgets/controls",
          "model_name": "ButtonModel",
          "model_module_version": "1.5.0",
          "state": {
            "_dom_classes": [],
            "_model_module": "@jupyter-widgets/controls",
            "_model_module_version": "1.5.0",
            "_model_name": "ButtonModel",
            "_view_count": null,
            "_view_module": "@jupyter-widgets/controls",
            "_view_module_version": "1.5.0",
            "_view_name": "ButtonView",
            "button_style": "",
            "description": "Update",
            "disabled": false,
            "icon": "",
            "layout": "IPY_MODEL_562742e1ffa946609f3a0fbf39d4e749",
            "style": "IPY_MODEL_bc9611526bdd4f37b1144ec97d428a24",
            "tooltip": ""
          }
        },
        "f0982e9018764f26a9e601d0b43dd0c6": {
          "model_module": "@jupyter-widgets/output",
          "model_name": "OutputModel",
          "model_module_version": "1.0.0",
          "state": {
            "_dom_classes": [],
            "_model_module": "@jupyter-widgets/output",
            "_model_module_version": "1.0.0",
            "_model_name": "OutputModel",
            "_view_count": null,
            "_view_module": "@jupyter-widgets/output",
            "_view_module_version": "1.0.0",
            "_view_name": "OutputView",
            "layout": "IPY_MODEL_1e4ea2e9b2664304a1f7fd4b5480c7c7",
            "msg_id": "",
            "outputs": []
          }
        },
        "43614dfbde394501bb3081bbe7b8e5f7": {
          "model_module": "@jupyter-widgets/base",
          "model_name": "LayoutModel",
          "model_module_version": "1.2.0",
          "state": {
            "_model_module": "@jupyter-widgets/base",
            "_model_module_version": "1.2.0",
            "_model_name": "LayoutModel",
            "_view_count": null,
            "_view_module": "@jupyter-widgets/base",
            "_view_module_version": "1.2.0",
            "_view_name": "LayoutView",
            "align_content": null,
            "align_items": "stretch",
            "align_self": null,
            "border": "1px solid orange",
            "bottom": null,
            "display": "flex",
            "flex": null,
            "flex_flow": "column",
            "grid_area": null,
            "grid_auto_columns": null,
            "grid_auto_flow": null,
            "grid_auto_rows": null,
            "grid_column": null,
            "grid_gap": null,
            "grid_row": null,
            "grid_template_areas": null,
            "grid_template_columns": null,
            "grid_template_rows": null,
            "height": null,
            "justify_content": null,
            "justify_items": null,
            "left": null,
            "margin": "auto",
            "max_height": null,
            "max_width": null,
            "min_height": null,
            "min_width": null,
            "object_fit": null,
            "object_position": null,
            "order": null,
            "overflow": null,
            "overflow_x": null,
            "overflow_y": null,
            "padding": "5px",
            "right": null,
            "top": null,
            "visibility": null,
            "width": "30%"
          }
        },
        "562742e1ffa946609f3a0fbf39d4e749": {
          "model_module": "@jupyter-widgets/base",
          "model_name": "LayoutModel",
          "model_module_version": "1.2.0",
          "state": {
            "_model_module": "@jupyter-widgets/base",
            "_model_module_version": "1.2.0",
            "_model_name": "LayoutModel",
            "_view_count": null,
            "_view_module": "@jupyter-widgets/base",
            "_view_module_version": "1.2.0",
            "_view_name": "LayoutView",
            "align_content": null,
            "align_items": null,
            "align_self": null,
            "border": null,
            "bottom": null,
            "display": null,
            "flex": null,
            "flex_flow": null,
            "grid_area": null,
            "grid_auto_columns": null,
            "grid_auto_flow": null,
            "grid_auto_rows": null,
            "grid_column": null,
            "grid_gap": null,
            "grid_row": null,
            "grid_template_areas": null,
            "grid_template_columns": null,
            "grid_template_rows": null,
            "height": null,
            "justify_content": null,
            "justify_items": null,
            "left": null,
            "margin": "3px auto",
            "max_height": null,
            "max_width": null,
            "min_height": null,
            "min_width": null,
            "object_fit": null,
            "object_position": null,
            "order": null,
            "overflow": null,
            "overflow_x": null,
            "overflow_y": null,
            "padding": "2px",
            "right": null,
            "top": null,
            "visibility": null,
            "width": "100%"
          }
        },
        "00c51847cf4b493692a17f1f913c50cf": {
          "model_module": "@jupyter-widgets/controls",
          "model_name": "DescriptionStyleModel",
          "model_module_version": "1.5.0",
          "state": {
            "_model_module": "@jupyter-widgets/controls",
            "_model_module_version": "1.5.0",
            "_model_name": "DescriptionStyleModel",
            "_view_count": null,
            "_view_module": "@jupyter-widgets/base",
            "_view_module_version": "1.2.0",
            "_view_name": "StyleView",
            "description_width": ""
          }
        },
        "2a5c826da1814ff288c26de6fd3751ea": {
          "model_module": "@jupyter-widgets/controls",
          "model_name": "DescriptionStyleModel",
          "model_module_version": "1.5.0",
          "state": {
            "_model_module": "@jupyter-widgets/controls",
            "_model_module_version": "1.5.0",
            "_model_name": "DescriptionStyleModel",
            "_view_count": null,
            "_view_module": "@jupyter-widgets/base",
            "_view_module_version": "1.2.0",
            "_view_name": "StyleView",
            "description_width": ""
          }
        },
        "ff035efee58a42248324fa9fae09e06a": {
          "model_module": "@jupyter-widgets/controls",
          "model_name": "DescriptionStyleModel",
          "model_module_version": "1.5.0",
          "state": {
            "_model_module": "@jupyter-widgets/controls",
            "_model_module_version": "1.5.0",
            "_model_name": "DescriptionStyleModel",
            "_view_count": null,
            "_view_module": "@jupyter-widgets/base",
            "_view_module_version": "1.2.0",
            "_view_name": "StyleView",
            "description_width": ""
          }
        },
        "bf1c89622217419188e6165ea61650f7": {
          "model_module": "@jupyter-widgets/controls",
          "model_name": "DescriptionStyleModel",
          "model_module_version": "1.5.0",
          "state": {
            "_model_module": "@jupyter-widgets/controls",
            "_model_module_version": "1.5.0",
            "_model_name": "DescriptionStyleModel",
            "_view_count": null,
            "_view_module": "@jupyter-widgets/base",
            "_view_module_version": "1.2.0",
            "_view_name": "StyleView",
            "description_width": ""
          }
        },
        "c0e817f8d59f465ca68f0a1e24ad1ed5": {
          "model_module": "@jupyter-widgets/controls",
          "model_name": "DescriptionStyleModel",
          "model_module_version": "1.5.0",
          "state": {
            "_model_module": "@jupyter-widgets/controls",
            "_model_module_version": "1.5.0",
            "_model_name": "DescriptionStyleModel",
            "_view_count": null,
            "_view_module": "@jupyter-widgets/base",
            "_view_module_version": "1.2.0",
            "_view_name": "StyleView",
            "description_width": ""
          }
        },
        "99f9ca07764d4b2fae77ef412b7d7613": {
          "model_module": "@jupyter-widgets/controls",
          "model_name": "DescriptionStyleModel",
          "model_module_version": "1.5.0",
          "state": {
            "_model_module": "@jupyter-widgets/controls",
            "_model_module_version": "1.5.0",
            "_model_name": "DescriptionStyleModel",
            "_view_count": null,
            "_view_module": "@jupyter-widgets/base",
            "_view_module_version": "1.2.0",
            "_view_name": "StyleView",
            "description_width": ""
          }
        },
        "bc9611526bdd4f37b1144ec97d428a24": {
          "model_module": "@jupyter-widgets/controls",
          "model_name": "ButtonStyleModel",
          "model_module_version": "1.5.0",
          "state": {
            "_model_module": "@jupyter-widgets/controls",
            "_model_module_version": "1.5.0",
            "_model_name": "ButtonStyleModel",
            "_view_count": null,
            "_view_module": "@jupyter-widgets/base",
            "_view_module_version": "1.2.0",
            "_view_name": "StyleView",
            "button_color": "green",
            "font_weight": ""
          }
        },
        "1e4ea2e9b2664304a1f7fd4b5480c7c7": {
          "model_module": "@jupyter-widgets/base",
          "model_name": "LayoutModel",
          "model_module_version": "1.2.0",
          "state": {
            "_model_module": "@jupyter-widgets/base",
            "_model_module_version": "1.2.0",
            "_model_name": "LayoutModel",
            "_view_count": null,
            "_view_module": "@jupyter-widgets/base",
            "_view_module_version": "1.2.0",
            "_view_name": "LayoutView",
            "align_content": null,
            "align_items": null,
            "align_self": null,
            "border": null,
            "bottom": null,
            "display": null,
            "flex": null,
            "flex_flow": null,
            "grid_area": null,
            "grid_auto_columns": null,
            "grid_auto_flow": null,
            "grid_auto_rows": null,
            "grid_column": null,
            "grid_gap": null,
            "grid_row": null,
            "grid_template_areas": null,
            "grid_template_columns": null,
            "grid_template_rows": null,
            "height": null,
            "justify_content": null,
            "justify_items": null,
            "left": null,
            "margin": null,
            "max_height": null,
            "max_width": null,
            "min_height": null,
            "min_width": null,
            "object_fit": null,
            "object_position": null,
            "order": null,
            "overflow": null,
            "overflow_x": null,
            "overflow_y": null,
            "padding": null,
            "right": null,
            "top": null,
            "visibility": null,
            "width": null
          }
        }
      }
    }
  },
  "cells": [
    {
      "cell_type": "markdown",
      "metadata": {
        "id": "view-in-github",
        "colab_type": "text"
      },
      "source": [
        "<a href=\"https://colab.research.google.com/github/Andy-Lewis-Sapner/ITCC-Ant-SemB24/blob/master/Exercises/Exercise1.ipynb\" target=\"_parent\"><img src=\"https://colab.research.google.com/assets/colab-badge.svg\" alt=\"Open In Colab\"/></a>"
      ]
    },
    {
      "cell_type": "code",
      "source": [
        "# Mount Google Drive so that we can access the files that are stored in it.\n",
        "from google.colab import drive\n",
        "drive.mount('/content/drive')"
      ],
      "metadata": {
        "id": "yxOpIOb4c5Fh",
        "collapsed": true,
        "colab": {
          "base_uri": "https://localhost:8080/"
        },
        "outputId": "21bb6efd-335c-43b8-dc40-9834e1d048d1"
      },
      "execution_count": null,
      "outputs": [
        {
          "output_type": "stream",
          "name": "stdout",
          "text": [
            "Drive already mounted at /content/drive; to attempt to forcibly remount, call drive.mount(\"/content/drive\", force_remount=True).\n"
          ]
        }
      ]
    },
    {
      "cell_type": "code",
      "source": [
        "# Import of necessary libraries.\n",
        "import ipywidgets as widgets\n",
        "from IPython.display import display, HTML"
      ],
      "metadata": {
        "id": "rHb3BSSi3rGu"
      },
      "execution_count": null,
      "outputs": []
    },
    {
      "cell_type": "code",
      "source": [
        "# A function that reads a text file and returns a list of the details of students.\n",
        "def readStudentsFile():\n",
        "  list_of_students = []\n",
        "  with open(path, 'r') as file:\n",
        "    for line in file:\n",
        "      line = line.strip()\n",
        "      student_details = line.split(\", \")\n",
        "      if len(student_details) == 5:\n",
        "        list_of_students.append(student_details)\n",
        "    file.close()\n",
        "  return list_of_students"
      ],
      "metadata": {
        "id": "lZapdQW83zwW"
      },
      "execution_count": null,
      "outputs": []
    },
    {
      "cell_type": "code",
      "source": [
        "# A function that updates the details of a student when the dropdown value (the name) is changed.\n",
        "def on_change(change):\n",
        "  output.clear_output()\n",
        "  for details in list_of_students:\n",
        "    if details[0] == change.new:\n",
        "      last_name.value = details[1]\n",
        "      mail.value = details[2]\n",
        "      courses.value = details[3][1:-1].replace('; ', ',\\n')\n",
        "      courses.rows = len(details[3].split('; '))\n",
        "      link.value = details[4]"
      ],
      "metadata": {
        "id": "6in5lsUS32V7"
      },
      "execution_count": null,
      "outputs": []
    },
    {
      "cell_type": "code",
      "source": [
        "# A function that updates (adds) the details of a student (in the text file and the form) when the update button is clicked.\n",
        "def on_button_clicked(b):\n",
        "  if program.value == \"\":\n",
        "    return\n",
        "  new_str = \"\"\n",
        "  for details in list_of_students:\n",
        "    if details[0] == names_dropdown.value:\n",
        "      new_str = '\\n' + \"\".join([item + \", \" for item in details]) + program.value\n",
        "  if new_str != \"\":\n",
        "   with open(path, 'a') as file:\n",
        "    file.write(new_str)\n",
        "    file.close()\n",
        "    output.clear_output()\n",
        "    with output:\n",
        "      print(\"Program has been added!\")\n",
        "    program.value = \"\""
      ],
      "metadata": {
        "id": "3bF2cEdo33dD"
      },
      "execution_count": null,
      "outputs": []
    },
    {
      "cell_type": "code",
      "execution_count": 29,
      "metadata": {
        "id": "ulOBs_L658QP",
        "colab": {
          "base_uri": "https://localhost:8080/",
          "height": 376,
          "referenced_widgets": [
            "c41b02b24dc44b478d45c73fd1d0cce6",
            "62b399da2b004174a577f345ecb5819c",
            "f17630f72da543ee804c1d44d5e910f1",
            "d67956dd99434e44ac51cf3f0e30b459",
            "360ef40387b34ea4b2f1cfcdc42e646a",
            "a2905a89ca9646e8a7fd97d3007f23c9",
            "1ad8af8f2a5b4668893ac1c269c978e5",
            "ca0d990ff961415bb1ce3c1518edb467",
            "f0982e9018764f26a9e601d0b43dd0c6",
            "43614dfbde394501bb3081bbe7b8e5f7",
            "562742e1ffa946609f3a0fbf39d4e749",
            "00c51847cf4b493692a17f1f913c50cf",
            "2a5c826da1814ff288c26de6fd3751ea",
            "ff035efee58a42248324fa9fae09e06a",
            "bf1c89622217419188e6165ea61650f7",
            "c0e817f8d59f465ca68f0a1e24ad1ed5",
            "99f9ca07764d4b2fae77ef412b7d7613",
            "bc9611526bdd4f37b1144ec97d428a24",
            "1e4ea2e9b2664304a1f7fd4b5480c7c7"
          ]
        },
        "outputId": "e7330d37-6437-4a76-af7a-5b411366e2a4"
      },
      "outputs": [
        {
          "output_type": "display_data",
          "data": {
            "text/plain": [
              "VBox(children=(Dropdown(description='First Name: ', layout=Layout(margin='3px auto', padding='2px', width='100…"
            ],
            "application/vnd.jupyter.widget-view+json": {
              "version_major": 2,
              "version_minor": 0,
              "model_id": "c41b02b24dc44b478d45c73fd1d0cce6"
            }
          },
          "metadata": {}
        },
        {
          "output_type": "display_data",
          "data": {
            "text/plain": [
              "<IPython.core.display.HTML object>"
            ],
            "text/html": [
              "\n",
              "<style>\n",
              "    .widget-dropdown select {\n",
              "        color: #6BE7B8;\n",
              "    }\n",
              "    .widget-text input[type=\"text\"] {\n",
              "        color: #6BE7B8;\n",
              "    }\n",
              "    .widget-textarea textarea {\n",
              "        color: #6BE7B8;\n",
              "    }\n",
              "</style>\n"
            ]
          },
          "metadata": {}
        }
      ],
      "source": [
        "# The path variable should have the path to the students text file\n",
        "path = '/content/drive/My Drive/students.txt'\n",
        "list_of_students = readStudentsFile()\n",
        "all_names = [student_details[0] for student_details in list_of_students]\n",
        "\n",
        "common_layout = widgets.Layout(\n",
        "    width='100%',\n",
        "    margin='3px auto',\n",
        "    padding='2px'\n",
        ")\n",
        "\n",
        "names_dropdown = widgets.Dropdown(\n",
        "    options = all_names,\n",
        "    value = all_names[0],\n",
        "    layout=common_layout,\n",
        "    description = \"First Name: \"\n",
        ")\n",
        "names_dropdown.observe(on_change)\n",
        "\n",
        "last_name = widgets.Text(\n",
        "    value = list_of_students[0][1],\n",
        "    description = \"Last Name: \",\n",
        "    layout=common_layout,\n",
        "    disabled=True\n",
        ")\n",
        "\n",
        "mail = widgets.Text(\n",
        "    value = list_of_students[0][2],\n",
        "    description = \"Mail: \",\n",
        "    layout=common_layout,\n",
        "    disabled=True\n",
        ")\n",
        "\n",
        "courses = widgets.Textarea(\n",
        "    value = list_of_students[0][3][1:-1].replace('; ', ',\\n'),\n",
        "    description = \"Courses: \",\n",
        "    layout=common_layout,\n",
        "    rows = len(list_of_students[0][3].split('; ')) + 1,\n",
        "    disabled=True\n",
        ")\n",
        "\n",
        "link = widgets.Text(\n",
        "    value = list_of_students[0][4],\n",
        "    description = \"Link: \",\n",
        "    layout=common_layout,\n",
        "    disabled=True\n",
        ")\n",
        "\n",
        "program = widgets.Text(\n",
        "    value = \"\",\n",
        "    description = \"Program: \",\n",
        "    layout=common_layout\n",
        ")\n",
        "\n",
        "button = widgets.Button(\n",
        "    description=\"Update\",\n",
        "    layout=common_layout\n",
        ")\n",
        "button.style.button_color = 'green'\n",
        "button.on_click(on_button_clicked)\n",
        "\n",
        "output = widgets.Output()\n",
        "\n",
        "vbox = widgets.VBox(children=[names_dropdown, last_name, mail, courses, link, program, button, output],\n",
        "                    layout=widgets.Layout(\n",
        "                      display='flex',\n",
        "                      flex_flow='column',\n",
        "                      align_items='stretch',\n",
        "                      border='1px solid orange',\n",
        "                      width='30%',\n",
        "                      margin='auto',\n",
        "                      padding='5px')\n",
        ")\n",
        "display(vbox)\n",
        "\n",
        "custom_css = \"\"\"\n",
        "<style>\n",
        "    .widget-dropdown select {\n",
        "        color: #6BE7B8;\n",
        "    }\n",
        "    .widget-text input[type=\"text\"] {\n",
        "        color: #6BE7B8;\n",
        "    }\n",
        "    .widget-textarea textarea {\n",
        "        color: #6BE7B8;\n",
        "    }\n",
        "</style>\n",
        "\"\"\"\n",
        "display(HTML(custom_css))"
      ]
    }
  ]
}