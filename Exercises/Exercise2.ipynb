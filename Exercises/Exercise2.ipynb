{
  "nbformat": 4,
  "nbformat_minor": 0,
  "metadata": {
    "colab": {
      "provenance": [],
      "authorship_tag": "ABX9TyMz16vMTwrZpyoBKBHyrMXB",
      "include_colab_link": true
    },
    "kernelspec": {
      "name": "python3",
      "display_name": "Python 3"
    },
    "language_info": {
      "name": "python"
    },
    "widgets": {
      "application/vnd.jupyter.widget-state+json": {
        "273942a95c784bfd8ea4b94acd5fc2c9": {
          "model_module": "@jupyter-widgets/controls",
          "model_name": "VBoxModel",
          "model_module_version": "1.5.0",
          "state": {
            "_dom_classes": [],
            "_model_module": "@jupyter-widgets/controls",
            "_model_module_version": "1.5.0",
            "_model_name": "VBoxModel",
            "_view_count": null,
            "_view_module": "@jupyter-widgets/controls",
            "_view_module_version": "1.5.0",
            "_view_name": "VBoxView",
            "box_style": "",
            "children": [
              "IPY_MODEL_6e0e8f3f92884d9aa472a716bbd5ee7e",
              "IPY_MODEL_78e71dceb93f405b9ba9c6d8bc957f3d",
              "IPY_MODEL_c28732c60ac2436db3304ee8278dc6a2",
              "IPY_MODEL_fbe4796eccef4d85957de6b49f31d986",
              "IPY_MODEL_6d86959633374e66aec2da67874984ec",
              "IPY_MODEL_d1628f2061b143ecaed57c6122261e2d",
              "IPY_MODEL_c367bad4da6c419f96e4c1d02b6f25e0",
              "IPY_MODEL_407fba2605ac4707aaf561c277756774"
            ],
            "layout": "IPY_MODEL_b6e667b46ffb43f0ba5e35ef9d298fb5"
          }
        },
        "6e0e8f3f92884d9aa472a716bbd5ee7e": {
          "model_module": "@jupyter-widgets/controls",
          "model_name": "DropdownModel",
          "model_module_version": "1.5.0",
          "state": {
            "_dom_classes": [],
            "_model_module": "@jupyter-widgets/controls",
            "_model_module_version": "1.5.0",
            "_model_name": "DropdownModel",
            "_options_labels": [
              "Alice",
              "Bob",
              "Eva",
              "David",
              "Sophia",
              "Michael",
              "Olivia",
              "Daniel",
              "Emily",
              "William"
            ],
            "_view_count": null,
            "_view_module": "@jupyter-widgets/controls",
            "_view_module_version": "1.5.0",
            "_view_name": "DropdownView",
            "description": "<font color='orange'>First Name: </font>",
            "description_tooltip": null,
            "disabled": false,
            "index": 3,
            "layout": "IPY_MODEL_6143d841f3b044e6a74bc3d244cb6d95",
            "style": "IPY_MODEL_c91f55692c7b4b7ca809cce6374e066c"
          }
        },
        "78e71dceb93f405b9ba9c6d8bc957f3d": {
          "model_module": "@jupyter-widgets/controls",
          "model_name": "TextModel",
          "model_module_version": "1.5.0",
          "state": {
            "_dom_classes": [],
            "_model_module": "@jupyter-widgets/controls",
            "_model_module_version": "1.5.0",
            "_model_name": "TextModel",
            "_view_count": null,
            "_view_module": "@jupyter-widgets/controls",
            "_view_module_version": "1.5.0",
            "_view_name": "TextView",
            "continuous_update": true,
            "description": "<font color='orange'>Last Name: </font>",
            "description_tooltip": null,
            "disabled": true,
            "layout": "IPY_MODEL_6143d841f3b044e6a74bc3d244cb6d95",
            "placeholder": "​",
            "style": "IPY_MODEL_5aeac6478bcf4fdc9505f76d4d26e915",
            "value": "Lee"
          }
        },
        "c28732c60ac2436db3304ee8278dc6a2": {
          "model_module": "@jupyter-widgets/controls",
          "model_name": "TextModel",
          "model_module_version": "1.5.0",
          "state": {
            "_dom_classes": [],
            "_model_module": "@jupyter-widgets/controls",
            "_model_module_version": "1.5.0",
            "_model_name": "TextModel",
            "_view_count": null,
            "_view_module": "@jupyter-widgets/controls",
            "_view_module_version": "1.5.0",
            "_view_name": "TextView",
            "continuous_update": true,
            "description": "<font color='orange'>Mail: </font>",
            "description_tooltip": null,
            "disabled": true,
            "layout": "IPY_MODEL_6143d841f3b044e6a74bc3d244cb6d95",
            "placeholder": "​",
            "style": "IPY_MODEL_a33d4229e5db4fa1b108912297212e30",
            "value": "david.lee@example.com"
          }
        },
        "fbe4796eccef4d85957de6b49f31d986": {
          "model_module": "@jupyter-widgets/controls",
          "model_name": "TextareaModel",
          "model_module_version": "1.5.0",
          "state": {
            "_dom_classes": [],
            "_model_module": "@jupyter-widgets/controls",
            "_model_module_version": "1.5.0",
            "_model_name": "TextareaModel",
            "_view_count": null,
            "_view_module": "@jupyter-widgets/controls",
            "_view_module_version": "1.5.0",
            "_view_name": "TextareaView",
            "continuous_update": true,
            "description": "<font color='orange'>Courses: </font>",
            "description_tooltip": null,
            "disabled": true,
            "layout": "IPY_MODEL_6143d841f3b044e6a74bc3d244cb6d95",
            "placeholder": "​",
            "rows": 2,
            "style": "IPY_MODEL_21991be12eaa42a3a3eb4afff28e6de2",
            "value": "Biology,\nMachine Learning"
          }
        },
        "6d86959633374e66aec2da67874984ec": {
          "model_module": "@jupyter-widgets/controls",
          "model_name": "TextModel",
          "model_module_version": "1.5.0",
          "state": {
            "_dom_classes": [],
            "_model_module": "@jupyter-widgets/controls",
            "_model_module_version": "1.5.0",
            "_model_name": "TextModel",
            "_view_count": null,
            "_view_module": "@jupyter-widgets/controls",
            "_view_module_version": "1.5.0",
            "_view_name": "TextView",
            "continuous_update": true,
            "description": "<font color='orange'>Link: </font>",
            "description_tooltip": null,
            "disabled": true,
            "layout": "IPY_MODEL_6143d841f3b044e6a74bc3d244cb6d95",
            "placeholder": "​",
            "style": "IPY_MODEL_d59cc5c462d24af6b51abdc924a005fc",
            "value": "https://www.udacity.com/"
          }
        },
        "d1628f2061b143ecaed57c6122261e2d": {
          "model_module": "@jupyter-widgets/controls",
          "model_name": "TextModel",
          "model_module_version": "1.5.0",
          "state": {
            "_dom_classes": [],
            "_model_module": "@jupyter-widgets/controls",
            "_model_module_version": "1.5.0",
            "_model_name": "TextModel",
            "_view_count": null,
            "_view_module": "@jupyter-widgets/controls",
            "_view_module_version": "1.5.0",
            "_view_name": "TextView",
            "continuous_update": true,
            "description": "<font color='orange'>Program: </font>",
            "description_tooltip": null,
            "disabled": false,
            "layout": "IPY_MODEL_6143d841f3b044e6a74bc3d244cb6d95",
            "placeholder": "​",
            "style": "IPY_MODEL_bf1d914a7c154cf2a64a4cb25f3962f7",
            "value": "prog"
          }
        },
        "c367bad4da6c419f96e4c1d02b6f25e0": {
          "model_module": "@jupyter-widgets/controls",
          "model_name": "ButtonModel",
          "model_module_version": "1.5.0",
          "state": {
            "_dom_classes": [],
            "_model_module": "@jupyter-widgets/controls",
            "_model_module_version": "1.5.0",
            "_model_name": "ButtonModel",
            "_view_count": null,
            "_view_module": "@jupyter-widgets/controls",
            "_view_module_version": "1.5.0",
            "_view_name": "ButtonView",
            "button_style": "",
            "description": "Update",
            "disabled": false,
            "icon": "",
            "layout": "IPY_MODEL_6143d841f3b044e6a74bc3d244cb6d95",
            "style": "IPY_MODEL_548218c0454747008396f029d95f8c94",
            "tooltip": ""
          }
        },
        "407fba2605ac4707aaf561c277756774": {
          "model_module": "@jupyter-widgets/output",
          "model_name": "OutputModel",
          "model_module_version": "1.0.0",
          "state": {
            "_dom_classes": [],
            "_model_module": "@jupyter-widgets/output",
            "_model_module_version": "1.0.0",
            "_model_name": "OutputModel",
            "_view_count": null,
            "_view_module": "@jupyter-widgets/output",
            "_view_module_version": "1.0.0",
            "_view_name": "OutputView",
            "layout": "IPY_MODEL_31e7809075384c98aad11dbcc0579736",
            "msg_id": "",
            "outputs": []
          }
        },
        "b6e667b46ffb43f0ba5e35ef9d298fb5": {
          "model_module": "@jupyter-widgets/base",
          "model_name": "LayoutModel",
          "model_module_version": "1.2.0",
          "state": {
            "_model_module": "@jupyter-widgets/base",
            "_model_module_version": "1.2.0",
            "_model_name": "LayoutModel",
            "_view_count": null,
            "_view_module": "@jupyter-widgets/base",
            "_view_module_version": "1.2.0",
            "_view_name": "LayoutView",
            "align_content": null,
            "align_items": "stretch",
            "align_self": null,
            "border": "1px solid orange",
            "bottom": null,
            "display": "flex",
            "flex": null,
            "flex_flow": "column",
            "grid_area": null,
            "grid_auto_columns": null,
            "grid_auto_flow": null,
            "grid_auto_rows": null,
            "grid_column": null,
            "grid_gap": null,
            "grid_row": null,
            "grid_template_areas": null,
            "grid_template_columns": null,
            "grid_template_rows": null,
            "height": null,
            "justify_content": null,
            "justify_items": null,
            "left": null,
            "margin": "auto",
            "max_height": null,
            "max_width": null,
            "min_height": null,
            "min_width": null,
            "object_fit": null,
            "object_position": null,
            "order": null,
            "overflow": null,
            "overflow_x": null,
            "overflow_y": null,
            "padding": "5px",
            "right": null,
            "top": null,
            "visibility": null,
            "width": "30%"
          }
        },
        "6143d841f3b044e6a74bc3d244cb6d95": {
          "model_module": "@jupyter-widgets/base",
          "model_name": "LayoutModel",
          "model_module_version": "1.2.0",
          "state": {
            "_model_module": "@jupyter-widgets/base",
            "_model_module_version": "1.2.0",
            "_model_name": "LayoutModel",
            "_view_count": null,
            "_view_module": "@jupyter-widgets/base",
            "_view_module_version": "1.2.0",
            "_view_name": "LayoutView",
            "align_content": null,
            "align_items": null,
            "align_self": null,
            "border": null,
            "bottom": null,
            "display": null,
            "flex": null,
            "flex_flow": null,
            "grid_area": null,
            "grid_auto_columns": null,
            "grid_auto_flow": null,
            "grid_auto_rows": null,
            "grid_column": null,
            "grid_gap": null,
            "grid_row": null,
            "grid_template_areas": null,
            "grid_template_columns": null,
            "grid_template_rows": null,
            "height": null,
            "justify_content": null,
            "justify_items": null,
            "left": null,
            "margin": "5px auto",
            "max_height": null,
            "max_width": null,
            "min_height": null,
            "min_width": null,
            "object_fit": null,
            "object_position": null,
            "order": null,
            "overflow": null,
            "overflow_x": null,
            "overflow_y": null,
            "padding": null,
            "right": null,
            "top": null,
            "visibility": null,
            "width": "95%"
          }
        },
        "c91f55692c7b4b7ca809cce6374e066c": {
          "model_module": "@jupyter-widgets/controls",
          "model_name": "DescriptionStyleModel",
          "model_module_version": "1.5.0",
          "state": {
            "_model_module": "@jupyter-widgets/controls",
            "_model_module_version": "1.5.0",
            "_model_name": "DescriptionStyleModel",
            "_view_count": null,
            "_view_module": "@jupyter-widgets/base",
            "_view_module_version": "1.2.0",
            "_view_name": "StyleView",
            "description_width": ""
          }
        },
        "5aeac6478bcf4fdc9505f76d4d26e915": {
          "model_module": "@jupyter-widgets/controls",
          "model_name": "DescriptionStyleModel",
          "model_module_version": "1.5.0",
          "state": {
            "_model_module": "@jupyter-widgets/controls",
            "_model_module_version": "1.5.0",
            "_model_name": "DescriptionStyleModel",
            "_view_count": null,
            "_view_module": "@jupyter-widgets/base",
            "_view_module_version": "1.2.0",
            "_view_name": "StyleView",
            "description_width": ""
          }
        },
        "a33d4229e5db4fa1b108912297212e30": {
          "model_module": "@jupyter-widgets/controls",
          "model_name": "DescriptionStyleModel",
          "model_module_version": "1.5.0",
          "state": {
            "_model_module": "@jupyter-widgets/controls",
            "_model_module_version": "1.5.0",
            "_model_name": "DescriptionStyleModel",
            "_view_count": null,
            "_view_module": "@jupyter-widgets/base",
            "_view_module_version": "1.2.0",
            "_view_name": "StyleView",
            "description_width": ""
          }
        },
        "21991be12eaa42a3a3eb4afff28e6de2": {
          "model_module": "@jupyter-widgets/controls",
          "model_name": "DescriptionStyleModel",
          "model_module_version": "1.5.0",
          "state": {
            "_model_module": "@jupyter-widgets/controls",
            "_model_module_version": "1.5.0",
            "_model_name": "DescriptionStyleModel",
            "_view_count": null,
            "_view_module": "@jupyter-widgets/base",
            "_view_module_version": "1.2.0",
            "_view_name": "StyleView",
            "description_width": ""
          }
        },
        "d59cc5c462d24af6b51abdc924a005fc": {
          "model_module": "@jupyter-widgets/controls",
          "model_name": "DescriptionStyleModel",
          "model_module_version": "1.5.0",
          "state": {
            "_model_module": "@jupyter-widgets/controls",
            "_model_module_version": "1.5.0",
            "_model_name": "DescriptionStyleModel",
            "_view_count": null,
            "_view_module": "@jupyter-widgets/base",
            "_view_module_version": "1.2.0",
            "_view_name": "StyleView",
            "description_width": ""
          }
        },
        "bf1d914a7c154cf2a64a4cb25f3962f7": {
          "model_module": "@jupyter-widgets/controls",
          "model_name": "DescriptionStyleModel",
          "model_module_version": "1.5.0",
          "state": {
            "_model_module": "@jupyter-widgets/controls",
            "_model_module_version": "1.5.0",
            "_model_name": "DescriptionStyleModel",
            "_view_count": null,
            "_view_module": "@jupyter-widgets/base",
            "_view_module_version": "1.2.0",
            "_view_name": "StyleView",
            "description_width": ""
          }
        },
        "548218c0454747008396f029d95f8c94": {
          "model_module": "@jupyter-widgets/controls",
          "model_name": "ButtonStyleModel",
          "model_module_version": "1.5.0",
          "state": {
            "_model_module": "@jupyter-widgets/controls",
            "_model_module_version": "1.5.0",
            "_model_name": "ButtonStyleModel",
            "_view_count": null,
            "_view_module": "@jupyter-widgets/base",
            "_view_module_version": "1.2.0",
            "_view_name": "StyleView",
            "button_color": "green",
            "font_weight": ""
          }
        },
        "31e7809075384c98aad11dbcc0579736": {
          "model_module": "@jupyter-widgets/base",
          "model_name": "LayoutModel",
          "model_module_version": "1.2.0",
          "state": {
            "_model_module": "@jupyter-widgets/base",
            "_model_module_version": "1.2.0",
            "_model_name": "LayoutModel",
            "_view_count": null,
            "_view_module": "@jupyter-widgets/base",
            "_view_module_version": "1.2.0",
            "_view_name": "LayoutView",
            "align_content": null,
            "align_items": null,
            "align_self": null,
            "border": null,
            "bottom": null,
            "display": null,
            "flex": null,
            "flex_flow": null,
            "grid_area": null,
            "grid_auto_columns": null,
            "grid_auto_flow": null,
            "grid_auto_rows": null,
            "grid_column": null,
            "grid_gap": null,
            "grid_row": null,
            "grid_template_areas": null,
            "grid_template_columns": null,
            "grid_template_rows": null,
            "height": null,
            "justify_content": null,
            "justify_items": null,
            "left": null,
            "margin": null,
            "max_height": null,
            "max_width": null,
            "min_height": null,
            "min_width": null,
            "object_fit": null,
            "object_position": null,
            "order": null,
            "overflow": null,
            "overflow_x": null,
            "overflow_y": null,
            "padding": null,
            "right": null,
            "top": null,
            "visibility": null,
            "width": null
          }
        }
      }
    }
  },
  "cells": [
    {
      "cell_type": "markdown",
      "metadata": {
        "id": "view-in-github",
        "colab_type": "text"
      },
      "source": [
        "<a href=\"https://colab.research.google.com/github/Andy-Lewis-Sapner/ITCC-Ant-SemB24/blob/master/Exercises/Exercise2.ipynb\" target=\"_parent\"><img src=\"https://colab.research.google.com/assets/colab-badge.svg\" alt=\"Open In Colab\"/></a>"
      ]
    },
    {
      "cell_type": "code",
      "execution_count": 1,
      "metadata": {
        "colab": {
          "base_uri": "https://localhost:8080/"
        },
        "id": "yJbREqDb6p4x",
        "outputId": "76a3fc4e-e160-43d3-a263-3db6849de2c2"
      },
      "outputs": [
        {
          "output_type": "stream",
          "name": "stdout",
          "text": [
            "Mounted at /content/drive\n"
          ]
        }
      ],
      "source": [
        "# Mount Google Drive so that we can access the files that are stored in it.\n",
        "from google.colab import drive\n",
        "drive.mount('/content/drive')"
      ]
    },
    {
      "cell_type": "code",
      "source": [
        "# Import of necessary libraries.\n",
        "import ipywidgets as widgets\n",
        "from IPython.display import display, HTML\n",
        "import json"
      ],
      "metadata": {
        "id": "ULe1yZMt6yUQ"
      },
      "execution_count": 2,
      "outputs": []
    },
    {
      "cell_type": "code",
      "source": [
        "# A function that reads a JSON file and returns a list of dictionaries (the list of students).\n",
        "def readStudentsFile(path):\n",
        "  with open(path, \"r\") as file:\n",
        "    list_of_students = json.load(file)\n",
        "    file.close()\n",
        "  return list_of_students"
      ],
      "metadata": {
        "id": "NH2Qbxr67OGB"
      },
      "execution_count": 3,
      "outputs": []
    },
    {
      "cell_type": "code",
      "source": [
        "# A function that returns a list of names from the list of students.\n",
        "def getListOfNames(list_of_students):\n",
        "  all_names = []\n",
        "  for details in list_of_students:\n",
        "    all_names.append(details[\"Name\"])\n",
        "  return all_names"
      ],
      "metadata": {
        "id": "zIMo76x6-gbh"
      },
      "execution_count": 4,
      "outputs": []
    },
    {
      "cell_type": "code",
      "source": [
        "# A function that updates the details of a student when the dropdown value (the name) is changed.\n",
        "def on_change(change):\n",
        "  output.clear_output()\n",
        "  for details in list_of_students:\n",
        "    if details[\"Name\"] == change.new:\n",
        "      last_name.value = details[\"Surname\"]\n",
        "      mail.value = details[\"Mail\"]\n",
        "      courses.value = getCoursesAsString(details[\"Courses\"])\n",
        "      courses.rows = len(details[\"Courses\"])\n",
        "      link.value = details[\"Link\"]\n",
        "      if \"Program\" in details.keys():\n",
        "        program.value = details[\"Program\"]\n",
        "      else:\n",
        "        program.value = \"\"\n"
      ],
      "metadata": {
        "id": "duKthYep7RG6"
      },
      "execution_count": 5,
      "outputs": []
    },
    {
      "cell_type": "code",
      "source": [
        "# A function that updates the details of a student (in the JSON file and the form) when the update button is clicked.\n",
        "def on_button_clicked(b):\n",
        "  output.clear_output()\n",
        "  if program.value.strip() == \"\":\n",
        "    with output:\n",
        "      print(\"Please enter a program!\")\n",
        "      return\n",
        "  for details in list_of_students:\n",
        "    if details[\"Name\"] == names_dropdown.value:\n",
        "      details.update({\"Program\": program.value})\n",
        "      break\n",
        "  with open(path, 'w') as file:\n",
        "    json.dump(list_of_students, file)\n",
        "    file.close()\n",
        "    with output:\n",
        "      print(\"Program has been updated!\")"
      ],
      "metadata": {
        "id": "Tjzlp7KZ7UT2"
      },
      "execution_count": 6,
      "outputs": []
    },
    {
      "cell_type": "code",
      "source": [
        "# A function that returns the list of courses as a string (the courses are in separate lines).\n",
        "def getCoursesAsString(courses):\n",
        "  return ',\\n'.join(courses)"
      ],
      "metadata": {
        "id": "K81VMuEcAPOm"
      },
      "execution_count": 7,
      "outputs": []
    },
    {
      "cell_type": "code",
      "source": [
        "# The path variable should have the path to the students JSON file\n",
        "path = '/content/drive/My Drive/Colab Notebooks/IntroToCloudComputing/students.json'\n",
        "list_of_students = readStudentsFile(path)\n",
        "all_names = getListOfNames(list_of_students)\n",
        "\n",
        "common_layout = widgets.Layout(\n",
        "    width='95%',\n",
        "    margin='5px auto'\n",
        ")\n",
        "\n",
        "custom_css = \"\"\"\n",
        "<style>\n",
        "    .widget-dropdown select {\n",
        "        color: #6BE7B8;\n",
        "    }\n",
        "    .widget-text input[type=\"text\"] {\n",
        "        color: #6BE7B8;\n",
        "    }\n",
        "    .widget-textarea textarea {\n",
        "        color: #6BE7B8;\n",
        "    }\n",
        "</style>\n",
        "\"\"\"\n",
        "\n",
        "# Widgets for the displayed form:\n",
        "names_dropdown = widgets.Dropdown(\n",
        "    options = all_names,\n",
        "    value = all_names[0],\n",
        "    layout=common_layout,\n",
        "    description = \"<font color='orange'>First Name: </font>\"\n",
        ")\n",
        "names_dropdown.observe(on_change)\n",
        "\n",
        "last_name = widgets.Text(\n",
        "    value = list_of_students[0][\"Surname\"],\n",
        "    description = \"<font color='orange'>Last Name: </font>\",\n",
        "    layout=common_layout,\n",
        "    disabled=True\n",
        ")\n",
        "\n",
        "mail = widgets.Text(\n",
        "    value = list_of_students[0][\"Mail\"],\n",
        "    description = \"<font color='orange'>Mail: </font>\",\n",
        "    layout=common_layout,\n",
        "    disabled=True\n",
        ")\n",
        "\n",
        "courses = widgets.Textarea(\n",
        "    value = getCoursesAsString(list_of_students[0][\"Courses\"]),\n",
        "    description = \"<font color='orange'>Courses: </font>\",\n",
        "    layout=common_layout,\n",
        "    rows = len(list_of_students[0][\"Courses\"]),\n",
        "    disabled=True\n",
        ")\n",
        "\n",
        "link = widgets.Text(\n",
        "    value = list_of_students[0][\"Link\"],\n",
        "    description = \"<font color='orange'>Link: </font>\",\n",
        "    layout=common_layout,\n",
        "    disabled=True\n",
        ")\n",
        "\n",
        "program = widgets.Text(\n",
        "    value = \"\",\n",
        "    description = \"<font color='orange'>Program: </font>\",\n",
        "    layout=common_layout\n",
        ")\n",
        "\n",
        "button = widgets.Button(\n",
        "    description=\"Update\",\n",
        "    layout=common_layout\n",
        ")\n",
        "button.style.button_color = 'green'\n",
        "button.on_click(on_button_clicked)\n",
        "\n",
        "output = widgets.Output()\n",
        "\n",
        "vbox = widgets.VBox(children=[names_dropdown, last_name, mail, courses, link, program, button, output],\n",
        "                    layout=widgets.Layout(\n",
        "                      display='flex',\n",
        "                      flex_flow='column',\n",
        "                      align_items='stretch',\n",
        "                      border='1px solid orange',\n",
        "                      width='30%',\n",
        "                      margin='auto',\n",
        "                      padding='5px')\n",
        ")\n",
        "display(vbox)\n",
        "# Display the custom CSS\n",
        "display(HTML(custom_css))"
      ],
      "metadata": {
        "colab": {
          "base_uri": "https://localhost:8080/",
          "height": 308,
          "referenced_widgets": [
            "273942a95c784bfd8ea4b94acd5fc2c9",
            "6e0e8f3f92884d9aa472a716bbd5ee7e",
            "78e71dceb93f405b9ba9c6d8bc957f3d",
            "c28732c60ac2436db3304ee8278dc6a2",
            "fbe4796eccef4d85957de6b49f31d986",
            "6d86959633374e66aec2da67874984ec",
            "d1628f2061b143ecaed57c6122261e2d",
            "c367bad4da6c419f96e4c1d02b6f25e0",
            "407fba2605ac4707aaf561c277756774",
            "b6e667b46ffb43f0ba5e35ef9d298fb5",
            "6143d841f3b044e6a74bc3d244cb6d95",
            "c91f55692c7b4b7ca809cce6374e066c",
            "5aeac6478bcf4fdc9505f76d4d26e915",
            "a33d4229e5db4fa1b108912297212e30",
            "21991be12eaa42a3a3eb4afff28e6de2",
            "d59cc5c462d24af6b51abdc924a005fc",
            "bf1d914a7c154cf2a64a4cb25f3962f7",
            "548218c0454747008396f029d95f8c94",
            "31e7809075384c98aad11dbcc0579736"
          ]
        },
        "id": "kBZWnVWb7VEg",
        "outputId": "e231ab76-1955-4499-e61b-fa0329078d89"
      },
      "execution_count": 22,
      "outputs": [
        {
          "output_type": "display_data",
          "data": {
            "text/plain": [
              "VBox(children=(Dropdown(description=\"<font color='orange'>First Name: </font>\", layout=Layout(margin='5px auto…"
            ],
            "application/vnd.jupyter.widget-view+json": {
              "version_major": 2,
              "version_minor": 0,
              "model_id": "273942a95c784bfd8ea4b94acd5fc2c9"
            }
          },
          "metadata": {}
        },
        {
          "output_type": "display_data",
          "data": {
            "text/plain": [
              "<IPython.core.display.HTML object>"
            ],
            "text/html": [
              "\n",
              "<style>\n",
              "    .widget-dropdown select {\n",
              "        color: #6BE7B8;\n",
              "    }\n",
              "    .widget-text input[type=\"text\"] {\n",
              "        color: #6BE7B8;\n",
              "    }\n",
              "    .widget-textarea textarea {\n",
              "        color: #6BE7B8;\n",
              "    }\n",
              "</style>\n"
            ]
          },
          "metadata": {}
        }
      ]
    }
  ]
}