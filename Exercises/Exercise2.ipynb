{
  "nbformat": 4,
  "nbformat_minor": 0,
  "metadata": {
    "colab": {
      "provenance": [],
      "authorship_tag": "ABX9TyNt4CKkchlUKVDz7bDxz0/N",
      "include_colab_link": true
    },
    "kernelspec": {
      "name": "python3",
      "display_name": "Python 3"
    },
    "language_info": {
      "name": "python"
    },
    "widgets": {
      "application/vnd.jupyter.widget-state+json": {
        "2d02d37f82e24acba5fbbc844b10ee1d": {
          "model_module": "@jupyter-widgets/controls",
          "model_name": "VBoxModel",
          "model_module_version": "1.5.0",
          "state": {
            "_dom_classes": [],
            "_model_module": "@jupyter-widgets/controls",
            "_model_module_version": "1.5.0",
            "_model_name": "VBoxModel",
            "_view_count": null,
            "_view_module": "@jupyter-widgets/controls",
            "_view_module_version": "1.5.0",
            "_view_name": "VBoxView",
            "box_style": "",
            "children": [
              "IPY_MODEL_1d592153ea874938ab7f8bbda46699a8",
              "IPY_MODEL_ba5c159264a3475eb9a88b36c4192de3",
              "IPY_MODEL_66dfe6d5f5e34236a375280950e95a83",
              "IPY_MODEL_fc93440741bf401da45b0ba7da6f2ff2",
              "IPY_MODEL_c1e42c942e374a939da59af1ff836975",
              "IPY_MODEL_ad9ad4e3f5aa4cae922f7ca7e955da4e",
              "IPY_MODEL_f3cf19b93c8346f8aa683273b726b7ed",
              "IPY_MODEL_9068a0af7f7c4366973fd27330e5a06c"
            ],
            "layout": "IPY_MODEL_4e92df03298046ab9f01ee66f1f6f51e"
          }
        },
        "1d592153ea874938ab7f8bbda46699a8": {
          "model_module": "@jupyter-widgets/controls",
          "model_name": "DropdownModel",
          "model_module_version": "1.5.0",
          "state": {
            "_dom_classes": [],
            "_model_module": "@jupyter-widgets/controls",
            "_model_module_version": "1.5.0",
            "_model_name": "DropdownModel",
            "_options_labels": [
              "Alice",
              "Bob",
              "Eva",
              "David",
              "Sophia",
              "Michael",
              "Olivia",
              "Daniel",
              "Emily",
              "William"
            ],
            "_view_count": null,
            "_view_module": "@jupyter-widgets/controls",
            "_view_module_version": "1.5.0",
            "_view_name": "DropdownView",
            "description": "<font color='orange'>First Name: </font>",
            "description_tooltip": null,
            "disabled": false,
            "index": 0,
            "layout": "IPY_MODEL_04d31891771e45fdb5eca66b85d3f567",
            "style": "IPY_MODEL_ce6a603215da4531b3efaf18d0aca32c"
          }
        },
        "ba5c159264a3475eb9a88b36c4192de3": {
          "model_module": "@jupyter-widgets/controls",
          "model_name": "TextModel",
          "model_module_version": "1.5.0",
          "state": {
            "_dom_classes": [],
            "_model_module": "@jupyter-widgets/controls",
            "_model_module_version": "1.5.0",
            "_model_name": "TextModel",
            "_view_count": null,
            "_view_module": "@jupyter-widgets/controls",
            "_view_module_version": "1.5.0",
            "_view_name": "TextView",
            "continuous_update": true,
            "description": "<font color='orange'>Last Name: </font>",
            "description_tooltip": null,
            "disabled": true,
            "layout": "IPY_MODEL_04d31891771e45fdb5eca66b85d3f567",
            "placeholder": "​",
            "style": "IPY_MODEL_831c24f5cf814ac0b9b2eafbd81fb8d7",
            "value": "Johnson"
          }
        },
        "66dfe6d5f5e34236a375280950e95a83": {
          "model_module": "@jupyter-widgets/controls",
          "model_name": "TextModel",
          "model_module_version": "1.5.0",
          "state": {
            "_dom_classes": [],
            "_model_module": "@jupyter-widgets/controls",
            "_model_module_version": "1.5.0",
            "_model_name": "TextModel",
            "_view_count": null,
            "_view_module": "@jupyter-widgets/controls",
            "_view_module_version": "1.5.0",
            "_view_name": "TextView",
            "continuous_update": true,
            "description": "<font color='orange'>Mail: </font>",
            "description_tooltip": null,
            "disabled": true,
            "layout": "IPY_MODEL_04d31891771e45fdb5eca66b85d3f567",
            "placeholder": "​",
            "style": "IPY_MODEL_01e110594f21417ea6d1e24e42866223",
            "value": "alice.johnson@example.com"
          }
        },
        "fc93440741bf401da45b0ba7da6f2ff2": {
          "model_module": "@jupyter-widgets/controls",
          "model_name": "TextareaModel",
          "model_module_version": "1.5.0",
          "state": {
            "_dom_classes": [],
            "_model_module": "@jupyter-widgets/controls",
            "_model_module_version": "1.5.0",
            "_model_name": "TextareaModel",
            "_view_count": null,
            "_view_module": "@jupyter-widgets/controls",
            "_view_module_version": "1.5.0",
            "_view_name": "TextareaView",
            "continuous_update": true,
            "description": "<font color='orange'>Courses: </font>",
            "description_tooltip": null,
            "disabled": true,
            "layout": "IPY_MODEL_04d31891771e45fdb5eca66b85d3f567",
            "placeholder": "​",
            "rows": 2,
            "style": "IPY_MODEL_4d9a5197c82b41778e32e4d56158d7ef",
            "value": "Physics,\nProgramming"
          }
        },
        "c1e42c942e374a939da59af1ff836975": {
          "model_module": "@jupyter-widgets/controls",
          "model_name": "TextModel",
          "model_module_version": "1.5.0",
          "state": {
            "_dom_classes": [],
            "_model_module": "@jupyter-widgets/controls",
            "_model_module_version": "1.5.0",
            "_model_name": "TextModel",
            "_view_count": null,
            "_view_module": "@jupyter-widgets/controls",
            "_view_module_version": "1.5.0",
            "_view_name": "TextView",
            "continuous_update": true,
            "description": "<font color='orange'>Link: </font>",
            "description_tooltip": null,
            "disabled": true,
            "layout": "IPY_MODEL_04d31891771e45fdb5eca66b85d3f567",
            "placeholder": "​",
            "style": "IPY_MODEL_925a0b23a64b4ec0af54027ad4842304",
            "value": "https://www.coursera.org/"
          }
        },
        "ad9ad4e3f5aa4cae922f7ca7e955da4e": {
          "model_module": "@jupyter-widgets/controls",
          "model_name": "TextModel",
          "model_module_version": "1.5.0",
          "state": {
            "_dom_classes": [],
            "_model_module": "@jupyter-widgets/controls",
            "_model_module_version": "1.5.0",
            "_model_name": "TextModel",
            "_view_count": null,
            "_view_module": "@jupyter-widgets/controls",
            "_view_module_version": "1.5.0",
            "_view_name": "TextView",
            "continuous_update": true,
            "description": "<font color='orange'>Program: </font>",
            "description_tooltip": null,
            "disabled": false,
            "layout": "IPY_MODEL_04d31891771e45fdb5eca66b85d3f567",
            "placeholder": "​",
            "style": "IPY_MODEL_2f889ca1e9e84eb8b228b0e5be1567f4",
            "value": ""
          }
        },
        "f3cf19b93c8346f8aa683273b726b7ed": {
          "model_module": "@jupyter-widgets/controls",
          "model_name": "ButtonModel",
          "model_module_version": "1.5.0",
          "state": {
            "_dom_classes": [],
            "_model_module": "@jupyter-widgets/controls",
            "_model_module_version": "1.5.0",
            "_model_name": "ButtonModel",
            "_view_count": null,
            "_view_module": "@jupyter-widgets/controls",
            "_view_module_version": "1.5.0",
            "_view_name": "ButtonView",
            "button_style": "",
            "description": "Update",
            "disabled": false,
            "icon": "",
            "layout": "IPY_MODEL_04d31891771e45fdb5eca66b85d3f567",
            "style": "IPY_MODEL_3e689b3936ce4028a9f22f5d08c57d35",
            "tooltip": ""
          }
        },
        "9068a0af7f7c4366973fd27330e5a06c": {
          "model_module": "@jupyter-widgets/output",
          "model_name": "OutputModel",
          "model_module_version": "1.0.0",
          "state": {
            "_dom_classes": [],
            "_model_module": "@jupyter-widgets/output",
            "_model_module_version": "1.0.0",
            "_model_name": "OutputModel",
            "_view_count": null,
            "_view_module": "@jupyter-widgets/output",
            "_view_module_version": "1.0.0",
            "_view_name": "OutputView",
            "layout": "IPY_MODEL_3755f45cc94049afaf20d9590cd177fd",
            "msg_id": "",
            "outputs": []
          }
        },
        "4e92df03298046ab9f01ee66f1f6f51e": {
          "model_module": "@jupyter-widgets/base",
          "model_name": "LayoutModel",
          "model_module_version": "1.2.0",
          "state": {
            "_model_module": "@jupyter-widgets/base",
            "_model_module_version": "1.2.0",
            "_model_name": "LayoutModel",
            "_view_count": null,
            "_view_module": "@jupyter-widgets/base",
            "_view_module_version": "1.2.0",
            "_view_name": "LayoutView",
            "align_content": null,
            "align_items": "stretch",
            "align_self": null,
            "border": "1px solid orange",
            "bottom": null,
            "display": "flex",
            "flex": null,
            "flex_flow": "column",
            "grid_area": null,
            "grid_auto_columns": null,
            "grid_auto_flow": null,
            "grid_auto_rows": null,
            "grid_column": null,
            "grid_gap": null,
            "grid_row": null,
            "grid_template_areas": null,
            "grid_template_columns": null,
            "grid_template_rows": null,
            "height": null,
            "justify_content": null,
            "justify_items": null,
            "left": null,
            "margin": "auto",
            "max_height": null,
            "max_width": null,
            "min_height": null,
            "min_width": null,
            "object_fit": null,
            "object_position": null,
            "order": null,
            "overflow": null,
            "overflow_x": null,
            "overflow_y": null,
            "padding": "5px",
            "right": null,
            "top": null,
            "visibility": null,
            "width": "30%"
          }
        },
        "04d31891771e45fdb5eca66b85d3f567": {
          "model_module": "@jupyter-widgets/base",
          "model_name": "LayoutModel",
          "model_module_version": "1.2.0",
          "state": {
            "_model_module": "@jupyter-widgets/base",
            "_model_module_version": "1.2.0",
            "_model_name": "LayoutModel",
            "_view_count": null,
            "_view_module": "@jupyter-widgets/base",
            "_view_module_version": "1.2.0",
            "_view_name": "LayoutView",
            "align_content": null,
            "align_items": null,
            "align_self": null,
            "border": null,
            "bottom": null,
            "display": null,
            "flex": null,
            "flex_flow": null,
            "grid_area": null,
            "grid_auto_columns": null,
            "grid_auto_flow": null,
            "grid_auto_rows": null,
            "grid_column": null,
            "grid_gap": null,
            "grid_row": null,
            "grid_template_areas": null,
            "grid_template_columns": null,
            "grid_template_rows": null,
            "height": null,
            "justify_content": null,
            "justify_items": null,
            "left": null,
            "margin": "5px auto",
            "max_height": null,
            "max_width": null,
            "min_height": null,
            "min_width": null,
            "object_fit": null,
            "object_position": null,
            "order": null,
            "overflow": null,
            "overflow_x": null,
            "overflow_y": null,
            "padding": null,
            "right": null,
            "top": null,
            "visibility": null,
            "width": "95%"
          }
        },
        "ce6a603215da4531b3efaf18d0aca32c": {
          "model_module": "@jupyter-widgets/controls",
          "model_name": "DescriptionStyleModel",
          "model_module_version": "1.5.0",
          "state": {
            "_model_module": "@jupyter-widgets/controls",
            "_model_module_version": "1.5.0",
            "_model_name": "DescriptionStyleModel",
            "_view_count": null,
            "_view_module": "@jupyter-widgets/base",
            "_view_module_version": "1.2.0",
            "_view_name": "StyleView",
            "description_width": ""
          }
        },
        "831c24f5cf814ac0b9b2eafbd81fb8d7": {
          "model_module": "@jupyter-widgets/controls",
          "model_name": "DescriptionStyleModel",
          "model_module_version": "1.5.0",
          "state": {
            "_model_module": "@jupyter-widgets/controls",
            "_model_module_version": "1.5.0",
            "_model_name": "DescriptionStyleModel",
            "_view_count": null,
            "_view_module": "@jupyter-widgets/base",
            "_view_module_version": "1.2.0",
            "_view_name": "StyleView",
            "description_width": ""
          }
        },
        "01e110594f21417ea6d1e24e42866223": {
          "model_module": "@jupyter-widgets/controls",
          "model_name": "DescriptionStyleModel",
          "model_module_version": "1.5.0",
          "state": {
            "_model_module": "@jupyter-widgets/controls",
            "_model_module_version": "1.5.0",
            "_model_name": "DescriptionStyleModel",
            "_view_count": null,
            "_view_module": "@jupyter-widgets/base",
            "_view_module_version": "1.2.0",
            "_view_name": "StyleView",
            "description_width": ""
          }
        },
        "4d9a5197c82b41778e32e4d56158d7ef": {
          "model_module": "@jupyter-widgets/controls",
          "model_name": "DescriptionStyleModel",
          "model_module_version": "1.5.0",
          "state": {
            "_model_module": "@jupyter-widgets/controls",
            "_model_module_version": "1.5.0",
            "_model_name": "DescriptionStyleModel",
            "_view_count": null,
            "_view_module": "@jupyter-widgets/base",
            "_view_module_version": "1.2.0",
            "_view_name": "StyleView",
            "description_width": ""
          }
        },
        "925a0b23a64b4ec0af54027ad4842304": {
          "model_module": "@jupyter-widgets/controls",
          "model_name": "DescriptionStyleModel",
          "model_module_version": "1.5.0",
          "state": {
            "_model_module": "@jupyter-widgets/controls",
            "_model_module_version": "1.5.0",
            "_model_name": "DescriptionStyleModel",
            "_view_count": null,
            "_view_module": "@jupyter-widgets/base",
            "_view_module_version": "1.2.0",
            "_view_name": "StyleView",
            "description_width": ""
          }
        },
        "2f889ca1e9e84eb8b228b0e5be1567f4": {
          "model_module": "@jupyter-widgets/controls",
          "model_name": "DescriptionStyleModel",
          "model_module_version": "1.5.0",
          "state": {
            "_model_module": "@jupyter-widgets/controls",
            "_model_module_version": "1.5.0",
            "_model_name": "DescriptionStyleModel",
            "_view_count": null,
            "_view_module": "@jupyter-widgets/base",
            "_view_module_version": "1.2.0",
            "_view_name": "StyleView",
            "description_width": ""
          }
        },
        "3e689b3936ce4028a9f22f5d08c57d35": {
          "model_module": "@jupyter-widgets/controls",
          "model_name": "ButtonStyleModel",
          "model_module_version": "1.5.0",
          "state": {
            "_model_module": "@jupyter-widgets/controls",
            "_model_module_version": "1.5.0",
            "_model_name": "ButtonStyleModel",
            "_view_count": null,
            "_view_module": "@jupyter-widgets/base",
            "_view_module_version": "1.2.0",
            "_view_name": "StyleView",
            "button_color": "green",
            "font_weight": ""
          }
        },
        "3755f45cc94049afaf20d9590cd177fd": {
          "model_module": "@jupyter-widgets/base",
          "model_name": "LayoutModel",
          "model_module_version": "1.2.0",
          "state": {
            "_model_module": "@jupyter-widgets/base",
            "_model_module_version": "1.2.0",
            "_model_name": "LayoutModel",
            "_view_count": null,
            "_view_module": "@jupyter-widgets/base",
            "_view_module_version": "1.2.0",
            "_view_name": "LayoutView",
            "align_content": null,
            "align_items": null,
            "align_self": null,
            "border": null,
            "bottom": null,
            "display": null,
            "flex": null,
            "flex_flow": null,
            "grid_area": null,
            "grid_auto_columns": null,
            "grid_auto_flow": null,
            "grid_auto_rows": null,
            "grid_column": null,
            "grid_gap": null,
            "grid_row": null,
            "grid_template_areas": null,
            "grid_template_columns": null,
            "grid_template_rows": null,
            "height": null,
            "justify_content": null,
            "justify_items": null,
            "left": null,
            "margin": null,
            "max_height": null,
            "max_width": null,
            "min_height": null,
            "min_width": null,
            "object_fit": null,
            "object_position": null,
            "order": null,
            "overflow": null,
            "overflow_x": null,
            "overflow_y": null,
            "padding": null,
            "right": null,
            "top": null,
            "visibility": null,
            "width": null
          }
        }
      }
    }
  },
  "cells": [
    {
      "cell_type": "markdown",
      "metadata": {
        "id": "view-in-github",
        "colab_type": "text"
      },
      "source": [
        "<a href=\"https://colab.research.google.com/github/Andy-Lewis-Sapner/ITCC-Ant-SemB24/blob/master/Exercises/Exercise2.ipynb\" target=\"_parent\"><img src=\"https://colab.research.google.com/assets/colab-badge.svg\" alt=\"Open In Colab\"/></a>"
      ]
    },
    {
      "cell_type": "code",
      "execution_count": null,
      "metadata": {
        "id": "yJbREqDb6p4x"
      },
      "outputs": [],
      "source": [
        "# Mount Google Drive so that we can access the files that are stored in it.\n",
        "from google.colab import drive\n",
        "drive.mount('/content/drive')"
      ]
    },
    {
      "cell_type": "code",
      "source": [
        "# Import of necessary libraries.\n",
        "import ipywidgets as widgets\n",
        "from IPython.display import display, HTML\n",
        "import json"
      ],
      "metadata": {
        "id": "ULe1yZMt6yUQ"
      },
      "execution_count": null,
      "outputs": []
    },
    {
      "cell_type": "code",
      "source": [
        "# A function that reads a JSON file and returns a list of dictionaries (the list of students).\n",
        "def readStudentsFile(path):\n",
        "  with open(path, \"r\") as file:\n",
        "    list_of_students = json.load(file)\n",
        "    file.close()\n",
        "  return list_of_students"
      ],
      "metadata": {
        "id": "NH2Qbxr67OGB"
      },
      "execution_count": null,
      "outputs": []
    },
    {
      "cell_type": "code",
      "source": [
        "# A function that returns a list of names from the list of students.\n",
        "def getListOfNames(list_of_students):\n",
        "  all_names = []\n",
        "  for details in list_of_students:\n",
        "    all_names.append(details[\"Name\"])\n",
        "  return all_names"
      ],
      "metadata": {
        "id": "zIMo76x6-gbh"
      },
      "execution_count": null,
      "outputs": []
    },
    {
      "cell_type": "code",
      "source": [
        "# A function that updates the details of a student when the dropdown value (the name) is changed.\n",
        "def on_change(change):\n",
        "  output.clear_output()\n",
        "  for details in list_of_students:\n",
        "    if details[\"Name\"] == change.new:\n",
        "      last_name.value = details[\"Surname\"]\n",
        "      mail.value = details[\"Mail\"]\n",
        "      courses.value = getCoursesAsString(details[\"Courses\"])\n",
        "      courses.rows = len(details[\"Courses\"])\n",
        "      link.value = details[\"Link\"]\n",
        "      if \"Program\" in details.keys():\n",
        "        program.value = details[\"Program\"]\n",
        "      else:\n",
        "        program.value = \"\"\n"
      ],
      "metadata": {
        "id": "duKthYep7RG6"
      },
      "execution_count": null,
      "outputs": []
    },
    {
      "cell_type": "code",
      "source": [
        "# A function that updates the details of a student (in the JSON file and the form) when the update button is clicked.\n",
        "def on_button_clicked(b):\n",
        "  output.clear_output()\n",
        "  if program.value.strip() == \"\":\n",
        "    with output:\n",
        "      print(\"Please enter a program!\")\n",
        "      return\n",
        "  for details in list_of_students:\n",
        "    if details[\"Name\"] == names_dropdown.value:\n",
        "      details.update({\"Program\": program.value})\n",
        "      break\n",
        "  with open(path, 'w') as file:\n",
        "    json.dump(list_of_students, file)\n",
        "    file.close()\n",
        "    with output:\n",
        "      print(\"Program has been updated!\")"
      ],
      "metadata": {
        "id": "Tjzlp7KZ7UT2"
      },
      "execution_count": null,
      "outputs": []
    },
    {
      "cell_type": "code",
      "source": [
        "# A function that returns the list of courses as a string (the courses are in separate lines).\n",
        "def getCoursesAsString(courses):\n",
        "  return ',\\n'.join(courses)"
      ],
      "metadata": {
        "id": "K81VMuEcAPOm"
      },
      "execution_count": null,
      "outputs": []
    },
    {
      "cell_type": "code",
      "source": [
        "# The path variable should have the path to the students JSON file\n",
        "path = '/content/drive/My Drive/Colab Notebooks/IntroToCloudComputing/students.json'\n",
        "list_of_students = readStudentsFile(path)\n",
        "all_names = getListOfNames(list_of_students)\n",
        "\n",
        "common_layout = widgets.Layout(width='95%', margin='5px auto')\n",
        "\n",
        "# Widgets for the displayed form:\n",
        "names_dropdown = widgets.Dropdown(\n",
        "    options = all_names,\n",
        "    value = None,\n",
        "    layout=common_layout,\n",
        "    description = \"<font color='orange'>First Name: </font>\"\n",
        ")\n",
        "names_dropdown.observe(on_change)\n",
        "\n",
        "last_name = widgets.Text(\n",
        "    description = \"<font color='orange'>Last Name: </font>\",\n",
        "    layout=common_layout,\n",
        "    disabled=True\n",
        ")\n",
        "\n",
        "mail = widgets.Text(\n",
        "    description = \"<font color='orange'>Mail: </font>\",\n",
        "    layout=common_layout,\n",
        "    disabled=True\n",
        ")\n",
        "\n",
        "courses = widgets.Textarea(\n",
        "    description = \"<font color='orange'>Courses: </font>\",\n",
        "    layout=common_layout,\n",
        "    rows = len(list_of_students[0][\"Courses\"]),\n",
        "    disabled=True\n",
        ")\n",
        "\n",
        "link = widgets.Text(\n",
        "    description = \"<font color='orange'>Link: </font>\",\n",
        "    layout=common_layout,\n",
        "    disabled=True\n",
        ")\n",
        "\n",
        "program = widgets.Text(\n",
        "    description = \"<font color='orange'>Program: </font>\",\n",
        "    layout=common_layout\n",
        ")\n",
        "\n",
        "button = widgets.Button(\n",
        "    description=\"Update\",\n",
        "    layout=common_layout\n",
        ")\n",
        "button.style.button_color = 'green'\n",
        "button.on_click(on_button_clicked)\n",
        "\n",
        "output = widgets.Output()\n",
        "\n",
        "vbox = widgets.VBox(children=[names_dropdown, last_name, mail, courses, link, program, button, output],\n",
        "                    layout=widgets.Layout(\n",
        "                      display='flex',\n",
        "                      flex_flow='column',\n",
        "                      align_items='stretch',\n",
        "                      border='1px solid orange',\n",
        "                      width='30%',\n",
        "                      margin='auto',\n",
        "                      padding='5px')\n",
        ")\n",
        "display(vbox)\n",
        "\n",
        "custom_css = \"\"\"\n",
        "<style>\n",
        "    .widget-dropdown select {\n",
        "        color: #6BE7B8;\n",
        "    }\n",
        "    .widget-text input[type=\"text\"] {\n",
        "        color: #6BE7B8;\n",
        "    }\n",
        "    .widget-textarea textarea {\n",
        "        color: #6BE7B8;\n",
        "    }\n",
        "</style>\n",
        "\"\"\"\n",
        "display(HTML(custom_css))"
      ],
      "metadata": {
        "colab": {
          "base_uri": "https://localhost:8080/",
          "height": 308,
          "referenced_widgets": [
            "2d02d37f82e24acba5fbbc844b10ee1d",
            "1d592153ea874938ab7f8bbda46699a8",
            "ba5c159264a3475eb9a88b36c4192de3",
            "66dfe6d5f5e34236a375280950e95a83",
            "fc93440741bf401da45b0ba7da6f2ff2",
            "c1e42c942e374a939da59af1ff836975",
            "ad9ad4e3f5aa4cae922f7ca7e955da4e",
            "f3cf19b93c8346f8aa683273b726b7ed",
            "9068a0af7f7c4366973fd27330e5a06c",
            "4e92df03298046ab9f01ee66f1f6f51e",
            "04d31891771e45fdb5eca66b85d3f567",
            "ce6a603215da4531b3efaf18d0aca32c",
            "831c24f5cf814ac0b9b2eafbd81fb8d7",
            "01e110594f21417ea6d1e24e42866223",
            "4d9a5197c82b41778e32e4d56158d7ef",
            "925a0b23a64b4ec0af54027ad4842304",
            "2f889ca1e9e84eb8b228b0e5be1567f4",
            "3e689b3936ce4028a9f22f5d08c57d35",
            "3755f45cc94049afaf20d9590cd177fd"
          ]
        },
        "id": "kBZWnVWb7VEg",
        "outputId": "0aff391a-f025-4d53-9284-1d601101757d"
      },
      "execution_count": null,
      "outputs": [
        {
          "output_type": "display_data",
          "data": {
            "text/plain": [
              "VBox(children=(Dropdown(description=\"<font color='orange'>First Name: </font>\", layout=Layout(margin='5px auto…"
            ],
            "application/vnd.jupyter.widget-view+json": {
              "version_major": 2,
              "version_minor": 0,
              "model_id": "2d02d37f82e24acba5fbbc844b10ee1d"
            }
          },
          "metadata": {}
        },
        {
          "output_type": "display_data",
          "data": {
            "text/plain": [
              "<IPython.core.display.HTML object>"
            ],
            "text/html": [
              "\n",
              "<style>\n",
              "    .widget-dropdown select {\n",
              "        color: #6BE7B8;\n",
              "    }\n",
              "    .widget-text input[type=\"text\"] {\n",
              "        color: #6BE7B8;\n",
              "    }\n",
              "    .widget-textarea textarea {\n",
              "        color: #6BE7B8;\n",
              "    }\n",
              "</style>\n"
            ]
          },
          "metadata": {}
        }
      ]
    }
  ]
}