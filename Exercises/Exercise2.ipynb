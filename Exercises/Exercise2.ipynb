{
  "nbformat": 4,
  "nbformat_minor": 0,
  "metadata": {
    "colab": {
      "provenance": [],
      "authorship_tag": "ABX9TyPpHEHRUvVR+HpfATxiQemi",
      "include_colab_link": true
    },
    "kernelspec": {
      "name": "python3",
      "display_name": "Python 3"
    },
    "language_info": {
      "name": "python"
    }
  },
  "cells": [
    {
      "cell_type": "markdown",
      "metadata": {
        "id": "view-in-github",
        "colab_type": "text"
      },
      "source": [
        "<a href=\"https://colab.research.google.com/github/Andy-Lewis-Sapner/ITCC-Ant-SemB24/blob/master/Exercises/Exercise2.ipynb\" target=\"_parent\"><img src=\"https://colab.research.google.com/assets/colab-badge.svg\" alt=\"Open In Colab\"/></a>"
      ]
    },
    {
      "cell_type": "markdown",
      "source": [
        "# Introduction to Cloud Computing - Tutorial 2 - JSON"
      ],
      "metadata": {
        "id": "t0wM7JtIZEzM"
      }
    },
    {
      "cell_type": "code",
      "execution_count": null,
      "metadata": {
        "id": "yJbREqDb6p4x"
      },
      "outputs": [],
      "source": [
        "# Mount Google Drive so that we can access the files that are stored in it.\n",
        "from google.colab import drive\n",
        "drive.mount('/content/drive')"
      ]
    },
    {
      "cell_type": "code",
      "source": [
        "# Import of necessary libraries.\n",
        "import ipywidgets as widgets\n",
        "from IPython.display import display, HTML\n",
        "import json"
      ],
      "metadata": {
        "id": "ULe1yZMt6yUQ"
      },
      "execution_count": null,
      "outputs": []
    },
    {
      "cell_type": "code",
      "source": [
        "# A function that reads a JSON file and returns a list of dictionaries (the list of students).\n",
        "def readStudentsFile(path):\n",
        "  with open(path, \"r\") as file:\n",
        "    list_of_students = json.load(file)\n",
        "    file.close()\n",
        "  return list_of_students"
      ],
      "metadata": {
        "id": "NH2Qbxr67OGB"
      },
      "execution_count": null,
      "outputs": []
    },
    {
      "cell_type": "code",
      "source": [
        "# A function that returns a list of names from the list of students.\n",
        "def getListOfNames(list_of_students):\n",
        "  all_names = []\n",
        "  for details in list_of_students:\n",
        "    all_names.append(details[\"Name\"])\n",
        "  return all_names"
      ],
      "metadata": {
        "id": "zIMo76x6-gbh"
      },
      "execution_count": null,
      "outputs": []
    },
    {
      "cell_type": "code",
      "source": [
        "# A function that updates the details of a student when the dropdown value (the name) is changed.\n",
        "def on_change(change):\n",
        "  output.clear_output()\n",
        "  for details in list_of_students:\n",
        "    if details[\"Name\"] == change.new:\n",
        "      last_name.value = details[\"Surname\"]\n",
        "      mail.value = details[\"Mail\"]\n",
        "      courses.value = getCoursesAsString(details[\"Courses\"])\n",
        "      courses.rows = len(details[\"Courses\"])\n",
        "      link.value = details[\"Link\"]\n",
        "      if \"Program\" in details.keys():\n",
        "        program.value = details[\"Program\"]\n",
        "      else:\n",
        "        program.value = \"\"\n"
      ],
      "metadata": {
        "id": "duKthYep7RG6"
      },
      "execution_count": null,
      "outputs": []
    },
    {
      "cell_type": "code",
      "source": [
        "# A function that updates the details of a student (in the JSON file and the form) when the update button is clicked.\n",
        "def on_button_clicked(b):\n",
        "  output.clear_output()\n",
        "  if program.value.strip() == \"\":\n",
        "    with output:\n",
        "      print(\"Please enter a program!\")\n",
        "      return\n",
        "  for details in list_of_students:\n",
        "    if details[\"Name\"] == names_dropdown.value:\n",
        "      details.update({\"Program\": program.value})\n",
        "      break\n",
        "  with open(path, 'w') as file:\n",
        "    json.dump(list_of_students, file)\n",
        "    file.close()\n",
        "    with output:\n",
        "      print(\"Program has been updated!\")"
      ],
      "metadata": {
        "id": "Tjzlp7KZ7UT2"
      },
      "execution_count": null,
      "outputs": []
    },
    {
      "cell_type": "code",
      "source": [
        "# A function that returns the list of courses as a string (the courses are in separate lines).\n",
        "def getCoursesAsString(courses):\n",
        "  return ',\\n'.join(courses)"
      ],
      "metadata": {
        "id": "K81VMuEcAPOm"
      },
      "execution_count": null,
      "outputs": []
    },
    {
      "cell_type": "code",
      "source": [
        "# The path variable should have the path to the students JSON file\n",
        "path = '/content/drive/My Drive/Colab Notebooks/IntroToCloudComputing/students.json'\n",
        "list_of_students = readStudentsFile(path)\n",
        "all_names = getListOfNames(list_of_students)\n",
        "\n",
        "common_layout = widgets.Layout(width='95%', margin='5px auto')\n",
        "\n",
        "# Widgets for the displayed form:\n",
        "names_dropdown = widgets.Dropdown(\n",
        "    options = all_names,\n",
        "    value = None,\n",
        "    layout=common_layout,\n",
        "    description = \"<font color='orange'>First Name: </font>\"\n",
        ")\n",
        "names_dropdown.observe(on_change)\n",
        "\n",
        "last_name = widgets.Text(\n",
        "    description = \"<font color='orange'>Last Name: </font>\",\n",
        "    layout=common_layout,\n",
        "    disabled=True\n",
        ")\n",
        "\n",
        "mail = widgets.Text(\n",
        "    description = \"<font color='orange'>Mail: </font>\",\n",
        "    layout=common_layout,\n",
        "    disabled=True\n",
        ")\n",
        "\n",
        "courses = widgets.Textarea(\n",
        "    description = \"<font color='orange'>Courses: </font>\",\n",
        "    layout=common_layout,\n",
        "    rows = len(list_of_students[0][\"Courses\"]),\n",
        "    disabled=True\n",
        ")\n",
        "\n",
        "link = widgets.Text(\n",
        "    description = \"<font color='orange'>Link: </font>\",\n",
        "    layout=common_layout,\n",
        "    disabled=True\n",
        ")\n",
        "\n",
        "program = widgets.Text(\n",
        "    description = \"<font color='orange'>Program: </font>\",\n",
        "    layout=common_layout\n",
        ")\n",
        "\n",
        "button = widgets.Button(\n",
        "    description=\"Update\",\n",
        "    layout=common_layout\n",
        ")\n",
        "button.style.button_color = 'green'\n",
        "button.on_click(on_button_clicked)\n",
        "\n",
        "output = widgets.Output()\n",
        "\n",
        "vbox = widgets.VBox(children=[names_dropdown, last_name, mail, courses, link, program, button, output],\n",
        "                    layout=widgets.Layout(\n",
        "                      display='flex',\n",
        "                      flex_flow='column',\n",
        "                      align_items='stretch',\n",
        "                      border='1px solid orange',\n",
        "                      width='30%',\n",
        "                      margin='auto',\n",
        "                      padding='5px')\n",
        ")\n",
        "display(vbox)\n",
        "\n",
        "custom_css = \"\"\"\n",
        "<style>\n",
        "    .widget-dropdown select {\n",
        "        color: #6BE7B8;\n",
        "    }\n",
        "    .widget-text input[type=\"text\"] {\n",
        "        color: #6BE7B8;\n",
        "    }\n",
        "    .widget-textarea textarea {\n",
        "        color: #6BE7B8;\n",
        "    }\n",
        "</style>\n",
        "\"\"\"\n",
        "display(HTML(custom_css))"
      ],
      "metadata": {
        "id": "kBZWnVWb7VEg"
      },
      "execution_count": null,
      "outputs": []
    }
  ]
}