{
  "nbformat": 4,
  "nbformat_minor": 0,
  "metadata": {
    "colab": {
      "provenance": [],
      "authorship_tag": "ABX9TyMiWRtcP0bTE3y7p08wFfTD",
      "include_colab_link": true
    },
    "kernelspec": {
      "name": "python3",
      "display_name": "Python 3"
    },
    "language_info": {
      "name": "python"
    }
  },
  "cells": [
    {
      "cell_type": "markdown",
      "metadata": {
        "id": "view-in-github",
        "colab_type": "text"
      },
      "source": [
        "<a href=\"https://colab.research.google.com/github/Andy-Lewis-Sapner/ITCC-Ant-SemB24/blob/master/Exercises/Exercise4.ipynb\" target=\"_parent\"><img src=\"https://colab.research.google.com/assets/colab-badge.svg\" alt=\"Open In Colab\"/></a>"
      ]
    },
    {
      "cell_type": "code",
      "execution_count": null,
      "metadata": {
        "id": "39qQJbrH_OIk"
      },
      "outputs": [],
      "source": [
        "# Mount google drive to get access to the data\n",
        "from google.colab import drive\n",
        "drive.mount('/content/drive')"
      ]
    },
    {
      "cell_type": "code",
      "source": [
        "# Imports needed for this exercise\n",
        "import matplotlib.pyplot as plt\n",
        "import pandas as pd\n",
        "import ipywidgets as widgets\n",
        "from IPython.display import display, HTML"
      ],
      "metadata": {
        "id": "JFkNL4GW_Ql4"
      },
      "execution_count": null,
      "outputs": []
    },
    {
      "cell_type": "code",
      "source": [
        "# Helper class to keep track of index and data in display\n",
        "class data_holder:\n",
        "  def set_index(self, index):\n",
        "    self.index = index\n",
        "\n",
        "  def get_index(self):\n",
        "    return self.index\n",
        "\n",
        "  def set_data(self, data, key):\n",
        "    # Sort data based on key\n",
        "    self.data = dict(sorted(data.items()))\n",
        "    key_text.value = \"\"\n",
        "    value_text.value = \"\"\n",
        "    key_text.description = \"<font color='orange'>\" + key + \": </font>\"\n",
        "\n",
        "  def get_data(self):\n",
        "    return self.data\n",
        "\n",
        "  def set_data_in_display(self):\n",
        "    key_text.value = list(self.data.keys())[self.index]\n",
        "    value_text.value = str(self.data[key_text.value])"
      ],
      "metadata": {
        "id": "Qz9koA_8IdD_"
      },
      "execution_count": null,
      "outputs": []
    },
    {
      "cell_type": "code",
      "source": [
        "# Helper function to create bar graph from data holder that is displayed\n",
        "def key_bar_graph(df, key):\n",
        "  if not key in df.keys():\n",
        "    return\n",
        "\n",
        "  output = widgets.Output(\n",
        "    layout=widgets.Layout(\n",
        "      display='flex',\n",
        "      flex_flow='column',\n",
        "      align_items='center',\n",
        "      border=\"4px solid black\"\n",
        "    )\n",
        "  )\n",
        "\n",
        "  displayed_data = {}\n",
        "  for _, row in df.iterrows():\n",
        "    data_str = row.get(key)\n",
        "    if data_str is None:\n",
        "      continue\n",
        "\n",
        "    # Trim data for the \"Time\" column\n",
        "    if key == \"Time\":\n",
        "      data_str = data_str[:4]\n",
        "\n",
        "    # Count number of occurences of each unique value in the column\n",
        "    if data_str in displayed_data:\n",
        "      displayed_data[data_str] += 1\n",
        "    else:\n",
        "      displayed_data[data_str] = 1\n",
        "\n",
        "  # Set the needed data in the data holder and the index to its initial value (-1)\n",
        "  data_holder.set_data(displayed_data, key)\n",
        "  data_holder.set_index(-1)\n",
        "\n",
        "  # Filter out values that are less than 10% of the average\n",
        "  if key == \"Document\":\n",
        "    values_average = sum(displayed_data.values()) / len(displayed_data.values())\n",
        "    displayed_data = {key: value for key, value in displayed_data.items() if value > 0.1 * values_average}\n",
        "\n",
        "  # Create the bar graph and display it via output\n",
        "  with output:\n",
        "    plt.bar(displayed_data.keys(), displayed_data.values(), align='center')\n",
        "    plt.title(key)\n",
        "    plt.rc('font', size=8)\n",
        "    plt.show()\n",
        "\n",
        "  return output"
      ],
      "metadata": {
        "id": "mzUENFYW_RpI"
      },
      "execution_count": null,
      "outputs": []
    },
    {
      "cell_type": "code",
      "source": [
        "# Event handler for dropdown, to update the bar graph and the data prev-next displayer when a new value is selected\n",
        "def dropdown_eventhandler(change):\n",
        "   if change['type'] == 'change' and change['name'] == 'value':\n",
        "        new_value = change['new']\n",
        "        output = key_bar_graph(df, new_value)\n",
        "        children = list(vbox.children)\n",
        "        if len(children) > 1:\n",
        "          children = children[:1]\n",
        "        output_hbox = widgets.HBox(children=[output, data_vbox], layout=widgets.Layout(margin=\"20px auto\"))\n",
        "        children.append(output_hbox)\n",
        "        vbox.children = children"
      ],
      "metadata": {
        "id": "ePatdlBP_SuS"
      },
      "execution_count": null,
      "outputs": []
    },
    {
      "cell_type": "code",
      "source": [
        "# Event handler for prev button\n",
        "def prev_button_clicked(b):\n",
        "  index = data_holder.get_index()\n",
        "  if index > 0:\n",
        "    data_holder.set_index(index - 1)\n",
        "    data_holder.set_data_in_display()"
      ],
      "metadata": {
        "id": "gWaOFL11GjwF"
      },
      "execution_count": null,
      "outputs": []
    },
    {
      "cell_type": "code",
      "source": [
        "# Event handler for next button\n",
        "def next_button_clicked(b):\n",
        "  index = data_holder.get_index()\n",
        "  if index < len(data_holder.get_data().keys()) - 1:\n",
        "    data_holder.set_index(index + 1)\n",
        "    data_holder.set_data_in_display()"
      ],
      "metadata": {
        "id": "YYykS3seGkFU"
      },
      "execution_count": null,
      "outputs": []
    },
    {
      "cell_type": "code",
      "source": [
        "# Load data from the json file in google drive\n",
        "path = '/content/drive/My Drive/Colab Notebooks/IntroToCloudComputing/data.json'\n",
        "df = pd.read_json(path)\n",
        "\n",
        "# Initialize the data holder\n",
        "data_holder = data_holder()"
      ],
      "metadata": {
        "id": "caS5bAZn_UES"
      },
      "execution_count": null,
      "outputs": []
    },
    {
      "cell_type": "code",
      "source": [
        "# Create the widgets for the data prev-next displayer\n",
        "key_text = widgets.Text(value=None, description=\"<font color='orange'>Key: </font>\", layout=widgets.Layout(width=\"95%\"), disabled=True)\n",
        "value_text = widgets.Text(value=None, description=\"<font color='orange'>Counter: </font>\", layout=widgets.Layout(width=\"95%\"), disabled=True)\n",
        "\n",
        "prev_button = widgets.Button(\n",
        "  description = \"Previous\",\n",
        "  layout = widgets.Layout(width=\"95%\", cursor=\"pointer\")\n",
        ")\n",
        "prev_button.on_click(prev_button_clicked)\n",
        "prev_button.style.button_color = \"#ff6666\"\n",
        "\n",
        "next_button = widgets.Button(\n",
        "  description = \"Next\",\n",
        "  layout = widgets.Layout(width=\"95%\", cursor=\"pointer\")\n",
        ")\n",
        "next_button.on_click(next_button_clicked)\n",
        "next_button.style.button_color = \"#ff6666\"\n",
        "\n",
        "buttons_hbox = widgets.HBox(\n",
        "    children=[prev_button, next_button],\n",
        "    layout=widgets.Layout(width=\"95%\", display='flex', flex_flow='row', justify_content='space-between')\n",
        ")\n",
        "\n",
        "data_vbox = widgets.VBox(\n",
        "    children=[key_text, value_text, buttons_hbox],\n",
        "    layout=widgets.Layout(\n",
        "      display='flex',\n",
        "      flex_flow='column',\n",
        "      align_items='center',\n",
        "      margin=\"12px\")\n",
        ")"
      ],
      "metadata": {
        "id": "DsUjI64KFBye"
      },
      "execution_count": null,
      "outputs": []
    },
    {
      "cell_type": "code",
      "source": [
        "# Create the main display with the dropdown selector\n",
        "dropdown = widgets.Dropdown(\n",
        "  options=[\"Time\", \"Document\", \"User\"],\n",
        "  value=None,\n",
        "  description='<font color=\\'orange\\'>Graph: </font>'\n",
        ")\n",
        "dropdown.observe(dropdown_eventhandler)\n",
        "\n",
        "vbox = widgets.VBox(\n",
        "    children=[dropdown],\n",
        "    layout=widgets.Layout(\n",
        "      display='flex',\n",
        "      flex_flow='column',\n",
        "      align_items='center',\n",
        "      margin=\"5px auto\")\n",
        ")\n",
        "display(vbox)\n",
        "\n",
        "custom_css = \"\"\"\n",
        "<style>\n",
        "    .widget-dropdown select {\n",
        "        color: orange;\n",
        "    }\n",
        "</style>\n",
        "\"\"\"\n",
        "display(HTML(custom_css))"
      ],
      "metadata": {
        "id": "k826P3tOExFe"
      },
      "execution_count": null,
      "outputs": []
    }
  ]
}